{
  "cells": [
    {
      "cell_type": "markdown",
      "metadata": {},
      "source": [
        "## TP N° 1\n",
        "#### - Metodología de Investiagción para Opinión Pública \n",
        "#### - UBA \n",
        "#### - Cátedra Olego \n",
        "#### - Segundo Cuatrimestre 2021"
      ]
    },
    {
      "cell_type": "markdown",
      "metadata": {},
      "source": [
        "### Congsina 1\n",
        "\n",
        "Sabemos que los primeros seis números primos son 2, 3, 5, 7, 11 y 13. De manera tal\n",
        "que podemos ver que el sexto número primo es el 13.\n",
        "Declarar una función que, dado un número x, devuelva el primo número x. \n",
        "Por ejemplo: primo (1000) = 7919"
      ]
    },
    {
      "cell_type": "code",
      "execution_count": 2,
      "metadata": {
        "id": "YVeapNQB-EXG"
      },
      "outputs": [],
      "source": [
        "diccionario_primos = {1: 2}\n",
        "\n",
        "def encontrar_primo(posicion_primo_solicitada):\n",
        "    '''Se ingresa un número como parámetro y la función devuelve el numero primo ubicado en la posición que se ingresó'''\n",
        "\n",
        "    posicion_primo_solicitada = int(posicion_primo_solicitada)  # Intentamos convertir el valor ingresado en un int,\n",
        "                                                                # lo hacemos adentro de la función para que sea\n",
        "                                                                # indistinto el modo de ingreso del valor, si no es\n",
        "                                                                # posible se rompe el programa y devuelve un ValueError\n",
        "\n",
        "    if posicion_primo_solicitada < 1:\n",
        "        raise ValueError(\"El número que ingresó es 0 o es negativo\") # Si la posición solicitada es menor a 1, el\n",
        "                                                                     # programa se rompe y devuelve un ValueEror con\n",
        "                                                                     # un mensaje que indica el problema\n",
        "\n",
        "                \n",
        "    \n",
        "    # Si la posición solicitada ya está guardada en el diccionario se imprime un mensaje que indica \n",
        "    # posición y número primo solicitados, se retorna el primo correspondiente y termina el programa\n",
        "    \n",
        "    if posicion_primo_solicitada in diccionario_primos.keys(): \n",
        "        print(F'El primo número {posicion_primo_solicitada} es el {diccionario_primos[posicion_primo_solicitada]}') \n",
        "        return diccionario_primos[posicion_primo_solicitada]\n",
        "\n",
        "    posicion_primo = len(diccionario_primos) # Creamos la variable local \"posición primo\" y le asignamos el largo del\n",
        "                                             # diccionario como la posición del último primo guardado\n",
        "\n",
        "    siguiente_numero = diccionario_primos[posicion_primo] #Creamos la variable local \"siguiente número\" y le asignamos\n",
        "                                                          # el último primo guardado en el diccionario de primos\n",
        "\n",
        "    while posicion_primo != posicion_primo_solicitada: # Mientras la posición del primo actual sea diferente a la\n",
        "                                                       # posición del primo solicitada por el usuario\n",
        "    \n",
        "        siguiente_numero += 1 # Se suma 1 al último primo guardado, luego al siguiente \n",
        "                              # del último primo guardado, y así\n",
        "            \n",
        "        es_primo = True # Partimos asumiendo que el número con el que estamos trabajando ahora \n",
        "                        # (\"siguiente_numero\") es primo (True)\n",
        "\n",
        "            \n",
        "    # Vamos a iterar sobre el diccionario de primos que tenemos guardado, por cada primo del diccionario, \n",
        "    # si el número con el que estamos trabajando dividido por el primo actual da cero, \n",
        "    # entonces el número con el que estamos trabajando (siguiente_numero) NO es primo (False)\n",
        "    # y cortamos el ciclo for (pasando a lo siguiente)\n",
        "            \n",
        "        for primo in diccionario_primos.values(): \n",
        "            if siguiente_numero % primo == 0:\n",
        "                es_primo = False \n",
        "                break\n",
        "\n",
        "    # # Si dividimos el número actual (siguiente_numero) por todos los primos y ninguno dió resto cero\n",
        "    # entonces ese número es primo (es_primo = True). En ese caso le sumamos 1 a la última posición, \n",
        "    # para guardar el número primo que encontramos. Finalmente guardamos el último primo que encontramos\n",
        "    # en la posición siguiente a la última guardada.\n",
        "                \n",
        "        if es_primo: \n",
        "            posicion_primo += 1 \n",
        "            diccionario_primos[posicion_primo] = siguiente_numero \n",
        "\n",
        "    # Y volvemos al inicio del ciclo while para comprobar si la posición_primo actual es la solicitada por el\n",
        "    # usuario, si es así se termina el ciclo, imprimimos el mensaje de abajo y retornamos el número primo de la\n",
        "    # posición solicitada, en caso contrario repetimos el proceso anterior con el siguiente número\n",
        "\n",
        "    print(F'El primo número {posicion_primo_solicitada} es el {diccionario_primos[posicion_primo_solicitada]}')\n",
        "    return diccionario_primos[posicion_primo_solicitada]"
      ]
    },
    {
      "cell_type": "code",
      "execution_count": 3,
      "metadata": {
        "colab": {
          "base_uri": "https://localhost:8080/"
        },
        "id": "J3Jxv87l-zEJ",
        "outputId": "cc4ceb95-f482-4cd7-d147-775bf82530e1"
      },
      "outputs": [
        {
          "name": "stdout",
          "output_type": "stream",
          "text": [
            "El primo número 1000 es el 7919\n"
          ]
        },
        {
          "data": {
            "text/plain": [
              "7919"
            ]
          },
          "execution_count": 3,
          "metadata": {},
          "output_type": "execute_result"
        }
      ],
      "source": [
        "encontrar_primo(1000)\n"
      ]
    },
    {
      "cell_type": "markdown",
      "metadata": {},
      "source": [
        "### Congsina 2\n",
        "\n",
        "Declarar una función que, dado un número x, sea capaz de sumar todos los números\n",
        "menores de x que sean múltiplos de 2 excepto aquellos que sean también múltiplos\n",
        "de 4. \n",
        "Por ejemplo: suma (10) = 2 + 6 + 10 = 18"
      ]
    },
    {
      "cell_type": "code",
      "execution_count": 4,
      "metadata": {
        "colab": {
          "base_uri": "https://localhost:8080/"
        },
        "id": "lzjgzy2-Bbh2",
        "outputId": "5788bbf2-1637-440c-ccdd-043aa40e9a00"
      },
      "outputs": [
        {
          "name": "stdout",
          "output_type": "stream",
          "text": [
            "El resultado es:  18\n"
          ]
        }
      ],
      "source": [
        "def suma_numeros_menores_x(numero):\n",
        "    acumulador = 0\n",
        "    for num in range(1, numero + 1): #numero+1 para que incluye al ultimo\n",
        "        if num % 2 == 0 and not(num % 4 == 0): #si el numero es divisor de 2, el residuo es 0, y no divisor de 4\n",
        "            acumulador = acumulador + num #0+i y despues reemplaza a 0 por el proximo numero cuando se cumpla condicion de arriba\n",
        "    print(\"El resultado es: \", acumulador)\n",
        "        \n",
        "numero=int(input(\"Ingrese número: \"))\n",
        "suma_numeros_menores_x(numero)"
      ]
    },
    {
      "cell_type": "markdown",
      "metadata": {},
      "source": [
        "### Congsina 3\n",
        "\n",
        "Sabemos que el día 1970-01-01 fue jueves. Declarar una función que pueda indicar\n",
        "cuántos jueves han sido el primer día de cada mes desde entonces. La fecha de corte\n",
        "debe de poder ser cualquiera"
      ]
    },
    {
      "cell_type": "code",
      "execution_count": 5,
      "metadata": {
        "id": "AlruEfSTBxFZ"
      },
      "outputs": [],
      "source": [
        "import dateutil\n",
        "from datetime import datetime\n",
        "from dateutil.relativedelta import relativedelta"
      ]
    },
    {
      "cell_type": "code",
      "execution_count": 7,
      "metadata": {
        "colab": {
          "base_uri": "https://localhost:8080/"
        },
        "id": "WtPdSZ1FB8ax",
        "outputId": "523946a1-c7e6-456c-8471-8937ca147c1f"
      },
      "outputs": [],
      "source": [
        "fecha_inicial = datetime(1970, 1, 1)\n",
        "\n",
        "fecha_de_corte = datetime.strptime(input('Por favor ingrese una fecha de corte, escrita en números, con el formato '\n",
        "                                         'año_completo/mes/día (por ejemplo 2021/1/3 o 2021/01/03): '), '%Y/%m/%d')"
      ]
    },
    {
      "cell_type": "code",
      "execution_count": 8,
      "metadata": {
        "id": "n01M4DZBBsaN"
      },
      "outputs": [],
      "source": [
        "def contar_primeros_jueves_del_mes(fecha_inicial, fecha_de_corte):\n",
        "    '''Dada una fecha de inicio y una fecha de corte, la función calcula la cantidad de primeros días del mes que\n",
        "    cayeron jueves en ese intervalo de tiempo'''\n",
        "\n",
        "    contador_de_jueves = 0 # Inicializamos un contador que contara la cantidad de jueves\n",
        "    \n",
        "    fecha_dada = fecha_inicial # Igualamos la fecha dada (sobre la que iremos agregando los meses) a la fecha inicial \n",
        "\n",
        "\n",
        "# Mientras la fecha dada sea menor a la fecha de corte, le agregaremos un mes a la fecha dada \n",
        "# (que es siempre el primer día del mes), luego veremos si esa fecha es jueves, \n",
        "# en caso de que sea jueves le sumaremos 1 al contador de jueves\n",
        "\n",
        "    while fecha_dada <= fecha_de_corte:\n",
        "        fecha_dada += relativedelta(months=1)\n",
        "        if datetime.strftime(fecha_dada, '%A') == 'Thursday':\n",
        "            contador_de_jueves += 1\n",
        "\n",
        "    return contador_de_jueves # Finalmente retornaremos la cantidad de jueves que hubo en ese lapso de tiempo"
      ]
    },
    {
      "cell_type": "code",
      "execution_count": 9,
      "metadata": {
        "colab": {
          "base_uri": "https://localhost:8080/"
        },
        "id": "dn4NN4NZB_OV",
        "outputId": "85b47be6-c79e-49cc-c1c2-932cdad8d626"
      },
      "outputs": [
        {
          "data": {
            "text/plain": [
              "49"
            ]
          },
          "execution_count": 9,
          "metadata": {},
          "output_type": "execute_result"
        }
      ],
      "source": [
        "cantidad_de_jueves = contar_primeros_jueves_del_mes(fecha_inicial, fecha_de_corte)\n",
        "\n",
        "cantidad_de_jueves"
      ]
    },
    {
      "cell_type": "markdown",
      "metadata": {},
      "source": [
        "### Congsina 3\n",
        "\n",
        "Declarar una función que aplique la fórmula D´Hondt para cualquier caso"
      ]
    },
    {
      "cell_type": "code",
      "execution_count": 11,
      "metadata": {
        "colab": {
          "base_uri": "https://localhost:8080/"
        },
        "id": "nD3pOYv9DCO3",
        "outputId": "ec4f890f-ef41-4f25-cb75-716d035c148b"
      },
      "outputs": [
        {
          "name": "stdout",
          "output_type": "stream",
          "text": [
            "Tabla de votos por partido\n",
            "  Partido    Votos\n",
            "0  JUNTOS  3480298\n",
            "1     FdT  3368310\n",
            "2     LLA   656498\n",
            "3     FIT   596723\n",
            "4     VcV   382445\n",
            "5      +V   257568\n",
            "División final de bancas: \n",
            "  Partido      Votos  Bancas\n",
            "0  JUNTOS  3480298.0      15\n",
            "1     FdT  3368310.0      14\n",
            "2     LLA   656498.0       2\n",
            "3     FIT   596723.0       2\n",
            "4     VcV   382445.0       1\n",
            "5      +V   257568.0       1\n"
          ]
        }
      ],
      "source": [
        "#%%\n",
        "import numpy as np\n",
        "import pandas as pd\n",
        "pd.options.mode.chained_assignment = None\n",
        "\n",
        "\n",
        "# Estas listas son las que se van a ir agregando con los inputs del usuario, y a partir de ellas se crea el DataFrame\n",
        "lista_cocientes = []\n",
        "lista_partidos = []\n",
        "lista_votos = []\n",
        "\n",
        "n_partidos = int(input(\"Ingrese el número de partidos: \"))\n",
        "\n",
        "# Las bancas en juego son la cantidad de iteraciones que debe hacer\n",
        "bancas_en_juego = int(input(\"Ingrese la cantidad de bancas a repartir: \"))\n",
        "\n",
        "# El umbral legal es el piso de partidos que deben ser considerados para repartir bancas\n",
        "umbral_legal = float(input(\"Ingrese el umbral legal en porcentaje (sin el símbolo '%'). En caso de no haber umbral legal ingrese '0': \"))\n",
        "\n",
        "\n",
        "info_correcta = False\n",
        "\n",
        "while info_correcta == False:\n",
        "    for partido in range(0,n_partidos):\n",
        "        lista_cocientes.append(1)                                                                                   # Como para dividir la primera iteración necesito que divida Votos / 1, agrega un 1 a la lista de Cocientes por cada partido\n",
        "        partidos = input(f\" Ingrese el nombre del partido n° {len(lista_cocientes)}: \")                           \n",
        "        lista_partidos.append(partidos)\n",
        "        votos = int(input(f\" Partido n° {len(lista_cocientes)}. Ingrese la cantidad de votos de «{lista_partidos[-1]}» sin separador de miles: \"))\n",
        "        lista_votos.append(votos)\n",
        "\n",
        "    # Esta sección construye el DataFrame a partir de las listas creadas en el for anerior\n",
        "    votos_d ={\"Partido\": lista_partidos, \"Votos\": lista_votos, \"Cociente\": lista_cocientes}\n",
        "    votosDF = pd.DataFrame(votos_d)     \n",
        "    print(\"Tabla de votos por partido\")\n",
        "    print(votosDF[[\"Partido\",\"Votos\"]])\n",
        " # Y aquí dependiendo del input del usuario se repite el proceso o continúa\n",
        "    verificacion = input(\"Indique si la información presentada en la tabla es correcta (si/no)\")  \n",
        "    if verificacion == \"si\":\n",
        "        info_correcta = True\n",
        "    elif verificacion == \"no\":\n",
        "        info_correcta = False\n",
        "        lista_cocientes.clear()     # Estos .clear son para que en caso de volver a ingresar datos, no siga agregando a los ya ingresados antes\n",
        "\n",
        "        lista_partidos.clear()     \n",
        "        lista_votos.clear()     \n",
        "\n",
        "\n",
        "\n",
        "def dhondt(votosDF):\n",
        "\n",
        "    # Necesito descartar los partidos que estan por debajo del umbral legal\n",
        "    # Primero calculo el porcentaje de votos de cada agrupacion\n",
        "    votosDF['total'] = votosDF[\"Votos\"].sum()\n",
        "    votosDF['porcentaje_votos'] = ((votosDF[\"Votos\"] / votosDF['total']) * 100).round(2)\n",
        "\n",
        "    # Y me quedo solo con las filas cuyo porcentaje supera el umbral legal\n",
        "    votos_sobre_umbral = votosDF[votosDF['porcentaje_votos'] > umbral_legal]\n",
        "    votos_bajo_umbral = votosDF[votosDF['porcentaje_votos'] < umbral_legal]\n",
        "\n",
        "\n",
        "    # En cuanto al código, primero divide por el cociente, luego aumenta en 1 al cociente del mayor producto de la división, \n",
        "    # y luego vuelve a multiplicar por el cociente para que la siguiente iteración se haga dividiendo los votos originales, en lugar de votos/cociente.\n",
        "    # En el medio también crea otro DF para usar su cociente para multiplicar por los votos, para que Votos no quede más grande que su número original\n",
        "\n",
        "\n",
        "    for banca in range(0,bancas_en_juego):\n",
        "        \n",
        "        votos_sobre_umbral[\"Votos\"] = votos_sobre_umbral[[\"Votos\"]].div(votos_sobre_umbral[\"Cociente\"], axis=0)           # Divide Votos por su cociente (inicialmente 1)\n",
        "        \n",
        "        votos_sobre_umbral.loc[votos_sobre_umbral[\"Votos\"] ==votos_sobre_umbral[\"Votos\"].max() , \"Cociente\"] += 1        # +1 al cociente del producto max de la división\n",
        "\n",
        "        votos_sobre_umbral_1 = votos_sobre_umbral.copy()                                                       # Crea un nuevo DF, para que multiplique su cociente\n",
        "        votos_sobre_umbral_1.loc[votos_sobre_umbral_1[\"Votos\"] == votos_sobre_umbral_1[\"Votos\"].max() , \"Cociente\"] -= 1  # Le resta 1 al nuevo DF\n",
        "        \n",
        "        votos_sobre_umbral[\"Votos\"] = votos_sobre_umbral[\"Votos\"] * votos_sobre_umbral_1[\"Cociente\"]                      # Multiplica Votos por el cociente del nuevo DF\n",
        "    \n",
        "    \n",
        "    # Necesito re insertar las filas eliminadas, cuyas bancas serán 0\n",
        "    bancas_final = pd.merge(votos_sobre_umbral, votos_bajo_umbral, how= 'outer', on= ['Partido', 'Votos', 'porcentaje_votos', 'total', 'Cociente'])\n",
        "\n",
        "    #  Luego convertir Cociente en Bancas y restarle 1\n",
        "    bancas_final = bancas_final.rename(columns={\"Cociente\": \"Bancas\"})\n",
        "    bancas_final[\"Bancas\"] -= 1\n",
        "\n",
        "    # No necesito la columna con el voto total\n",
        "    bancas_final = bancas_final.drop(columns= 'total')\n",
        "    \n",
        "    print(\"División final de bancas: \")\n",
        "    print(bancas_final)\n",
        "    return bancas_final\n",
        "\n",
        "ejemplo = dhondt(votosDF)"
      ]
    }
  ],
  "metadata": {
    "colab": {
      "name": "Grupo 2.ipynb",
      "provenance": []
    },
    "kernelspec": {
      "display_name": "Python 3",
      "name": "python3"
    },
    "language_info": {
      "name": "python"
    }
  },
  "nbformat": 4,
  "nbformat_minor": 0
}
