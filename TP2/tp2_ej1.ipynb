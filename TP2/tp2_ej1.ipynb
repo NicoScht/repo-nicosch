{
 "cells": [
  {
   "cell_type": "markdown",
   "id": "c9a0ba85",
   "metadata": {
    "slideshow": {
     "slide_type": "slide"
    }
   },
   "source": [
    "# Análisis electoral del *Frente de Izquierda y los Trabajadores - Unidad*\n",
    "\n",
    "## MET4OP - T.P n° 2 - Ejercicio 1 - Grupo 2\n",
    "##### Integrantes: Florencia Simeran, Nicolás Schteimberg, Lena Frattini"
   ]
  },
  {
   "cell_type": "markdown",
   "id": "574d94e5",
   "metadata": {
    "slideshow": {
     "slide_type": "slide"
    }
   },
   "source": [
    "### 1.1\n",
    "#### Resultados electorales por Circuito Electoral\n",
    "#### Categoría: Presidente y VIcepresidente"
   ]
  },
  {
   "cell_type": "markdown",
   "id": "d7457bcc",
   "metadata": {
    "slideshow": {
     "slide_type": "skip"
    }
   },
   "source": [
    "\n",
    "#### Importamos las librerías"
   ]
  },
  {
   "cell_type": "code",
   "execution_count": 1,
   "id": "15bbbc09",
   "metadata": {
    "slideshow": {
     "slide_type": "skip"
    }
   },
   "outputs": [],
   "source": [
    "import numpy as np\n",
    "import pandas as pd\n",
    "import os\n",
    "import matplotlib.pyplot as plt\n",
    "import seaborn as sns\n",
    "from IPython.display import Image\n",
    "%matplotlib inline"
   ]
  },
  {
   "cell_type": "markdown",
   "id": "33ecc060",
   "metadata": {
    "slideshow": {
     "slide_type": "skip"
    }
   },
   "source": [
    "\n",
    "#### Leemos el archivo con los datos electorales"
   ]
  },
  {
   "cell_type": "code",
   "execution_count": 2,
   "id": "f2df3c1e",
   "metadata": {
    "slideshow": {
     "slide_type": "skip"
    }
   },
   "outputs": [],
   "source": [
    "resultCABA = pd.read_csv (                          # Resultados totales\n",
    "    \"Datos/datos_agrup.csv\"\n",
    ")"
   ]
  },
  {
   "cell_type": "markdown",
   "id": "1c4a8398",
   "metadata": {
    "slideshow": {
     "slide_type": "subslide"
    }
   },
   "source": [
    "\n",
    "#### Declaramos las funciones que vamos a utilizar"
   ]
  },
  {
   "cell_type": "code",
   "execution_count": 3,
   "id": "138b3657",
   "metadata": {
    "slideshow": {
     "slide_type": "-"
    }
   },
   "outputs": [],
   "source": [
    "def porcentaje_circuito(result_total, result_agrupacion):\n",
    "    \"\"\"\n",
    "    Función que a partir de tablas con el cargo en disputa y una agrupación en específico, \n",
    "    calcula el porcentaje por circuito electoral\n",
    "    \"\"\"\n",
    "\n",
    "    # Primero suma la cantidad de votos totales por circuito\n",
    "    result_total_acotado = result_total[[\"CODIGO_CIRCUITO\", \"CODIGO_MESA\", \"VOTOS_AGRUPACION\", \"NOMBRE_REGION\", \"NOMBRE_AGRUPACION\"]]\n",
    "\n",
    "    result_total_circuito = (result_total_acotado.groupby([\"NOMBRE_REGION\", \"CODIGO_CIRCUITO\"]).sum())\n",
    "\n",
    "    result_total_circuito = result_total_circuito.rename(columns={\"VOTOS_AGRUPACION\": \"VOTOS_TOTALES\"})\n",
    "\n",
    "\n",
    "    # Luego suma la cantidad de votos de determinada agrupacion por circuito\n",
    "    result_agrupacion_acotado = result_agrupacion[[\"CODIGO_CIRCUITO\", \"CODIGO_MESA\", \"VOTOS_AGRUPACION\", \"NOMBRE_REGION\", \"NOMBRE_AGRUPACION\"]]\n",
    "\n",
    "    result_agrupacion_circuito = (result_agrupacion_acotado.groupby([\"NOMBRE_REGION\", \"CODIGO_CIRCUITO\"]).sum())\n",
    "\n",
    "    # Luego hace un merge, y calcula el porcentaje diviendo votos de la agrupacion por totales\n",
    "    porcentaje_circuito = pd.merge(result_total_circuito, result_agrupacion_circuito, on=[\"NOMBRE_REGION\",\"CODIGO_CIRCUITO\"])\n",
    "\n",
    "    porcentaje_circuito[\"PORCENTAJE_AGRUPACION\"] = ((porcentaje_circuito[\"VOTOS_AGRUPACION\"] / porcentaje_circuito[\"VOTOS_TOTALES\"]) * 100).round(2)\n",
    "\n",
    "\n",
    "    return porcentaje_circuito"
   ]
  },
  {
   "cell_type": "markdown",
   "id": "8bf88ccd",
   "metadata": {
    "slideshow": {
     "slide_type": "slide"
    }
   },
   "source": [
    "### DataFrames construidos "
   ]
  },
  {
   "cell_type": "markdown",
   "id": "2d5222dd",
   "metadata": {
    "slideshow": {
     "slide_type": "-"
    }
   },
   "source": [
    "\n",
    "#### Resultados del FIT en cada mesa solo para Presidente"
   ]
  },
  {
   "cell_type": "code",
   "execution_count": 4,
   "id": "24fcd2ea",
   "metadata": {
    "slideshow": {
     "slide_type": "-"
    }
   },
   "outputs": [],
   "source": [
    "resultCABA_pres_fit = resultCABA[(resultCABA[\"NOMBRE_CATEGORIA\"] == \"Presidente y Vicepresidente de la República\") & (resultCABA[\"NOMBRE_AGRUPACION\"] == \"FRENTE DE IZQUIERDA Y DE TRABAJADORES - UNIDAD\")]"
   ]
  },
  {
   "cell_type": "markdown",
   "id": "06cc7e54",
   "metadata": {
    "slideshow": {
     "slide_type": "-"
    }
   },
   "source": [
    "\n",
    "#### Resultados totales en cada mesa solo para Presidente"
   ]
  },
  {
   "cell_type": "code",
   "execution_count": 5,
   "id": "6b88c294",
   "metadata": {
    "slideshow": {
     "slide_type": "-"
    }
   },
   "outputs": [],
   "source": [
    "resultCABA_pres_total = resultCABA[resultCABA[\"NOMBRE_CATEGORIA\"] == \"Presidente y Vicepresidente de la República\"]"
   ]
  },
  {
   "cell_type": "markdown",
   "id": "26565364",
   "metadata": {
    "slideshow": {
     "slide_type": "slide"
    }
   },
   "source": [
    "#### Porcentaje de voto al FIT por Circuito para la categoría \"Presidente y vicepresidente\""
   ]
  },
  {
   "cell_type": "code",
   "execution_count": 6,
   "id": "edf70cfd",
   "metadata": {
    "slideshow": {
     "slide_type": "skip"
    }
   },
   "outputs": [],
   "source": [
    "porc_pres_circuito_fit = porcentaje_circuito(resultCABA_pres_total, resultCABA_pres_fit)"
   ]
  },
  {
   "cell_type": "markdown",
   "id": "2f997c89",
   "metadata": {
    "slideshow": {
     "slide_type": "slide"
    }
   },
   "source": [
    "#### Los circuitos con valores que superan el cuarto cuartil\n",
    "###### (Los valores del último cuartil figuran como Cuartil N°3, dado que Pandas empieza a contar desde 0)"
   ]
  },
  {
   "cell_type": "code",
   "execution_count": 9,
   "id": "a918fb12",
   "metadata": {
    "slideshow": {
     "slide_type": "skip"
    }
   },
   "outputs": [],
   "source": [
    "porc_pres_circuito_fit_q75 = porc_pres_circuito_fit.copy()\n",
    "porc_pres_circuito_fit_q75\n",
    "porc_pres_circuito_fit_q75[\"CUARTIL\"] = pd.qcut(porc_pres_circuito_fit_q75[\"PORCENTAJE_AGRUPACION\"],q=4, labels= False)"
   ]
  },
  {
   "cell_type": "code",
   "execution_count": 10,
   "id": "66864184",
   "metadata": {
    "slideshow": {
     "slide_type": "-"
    }
   },
   "outputs": [
    {
     "data": {
      "text/html": [
       "<div>\n",
       "<style scoped>\n",
       "    .dataframe tbody tr th:only-of-type {\n",
       "        vertical-align: middle;\n",
       "    }\n",
       "\n",
       "    .dataframe tbody tr th {\n",
       "        vertical-align: top;\n",
       "    }\n",
       "\n",
       "    .dataframe thead th {\n",
       "        text-align: right;\n",
       "    }\n",
       "</style>\n",
       "<table border=\"1\" class=\"dataframe\">\n",
       "  <thead>\n",
       "    <tr style=\"text-align: right;\">\n",
       "      <th></th>\n",
       "      <th></th>\n",
       "      <th>VOTOS_TOTALES</th>\n",
       "      <th>VOTOS_AGRUPACION</th>\n",
       "      <th>PORCENTAJE_AGRUPACION</th>\n",
       "      <th>CUARTIL</th>\n",
       "    </tr>\n",
       "    <tr>\n",
       "      <th>NOMBRE_REGION</th>\n",
       "      <th>CODIGO_CIRCUITO</th>\n",
       "      <th></th>\n",
       "      <th></th>\n",
       "      <th></th>\n",
       "      <th></th>\n",
       "    </tr>\n",
       "  </thead>\n",
       "  <tbody>\n",
       "    <tr>\n",
       "      <th rowspan=\"2\" valign=\"top\">COMUNA 15</th>\n",
       "      <th>1015000164</th>\n",
       "      <td>8654</td>\n",
       "      <td>455</td>\n",
       "      <td>5.26</td>\n",
       "      <td>3</td>\n",
       "    </tr>\n",
       "    <tr>\n",
       "      <th>1015000162</th>\n",
       "      <td>12689</td>\n",
       "      <td>658</td>\n",
       "      <td>5.19</td>\n",
       "      <td>3</td>\n",
       "    </tr>\n",
       "    <tr>\n",
       "      <th>COMUNA 05</th>\n",
       "      <th>1005000059</th>\n",
       "      <td>10370</td>\n",
       "      <td>537</td>\n",
       "      <td>5.18</td>\n",
       "      <td>3</td>\n",
       "    </tr>\n",
       "    <tr>\n",
       "      <th>COMUNA 03</th>\n",
       "      <th>1003000036</th>\n",
       "      <td>6242</td>\n",
       "      <td>322</td>\n",
       "      <td>5.16</td>\n",
       "      <td>3</td>\n",
       "    </tr>\n",
       "    <tr>\n",
       "      <th>COMUNA 01</th>\n",
       "      <th>1001000002</th>\n",
       "      <td>6643</td>\n",
       "      <td>335</td>\n",
       "      <td>5.04</td>\n",
       "      <td>3</td>\n",
       "    </tr>\n",
       "    <tr>\n",
       "      <th>COMUNA 05</th>\n",
       "      <th>1005000067</th>\n",
       "      <td>15739</td>\n",
       "      <td>785</td>\n",
       "      <td>4.99</td>\n",
       "      <td>3</td>\n",
       "    </tr>\n",
       "    <tr>\n",
       "      <th>COMUNA 06</th>\n",
       "      <th>1006000072</th>\n",
       "      <td>10797</td>\n",
       "      <td>533</td>\n",
       "      <td>4.94</td>\n",
       "      <td>3</td>\n",
       "    </tr>\n",
       "    <tr>\n",
       "      <th>COMUNA 15</th>\n",
       "      <th>1015000160</th>\n",
       "      <td>17775</td>\n",
       "      <td>874</td>\n",
       "      <td>4.92</td>\n",
       "      <td>3</td>\n",
       "    </tr>\n",
       "    <tr>\n",
       "      <th>COMUNA 03</th>\n",
       "      <th>1003000041</th>\n",
       "      <td>13765</td>\n",
       "      <td>676</td>\n",
       "      <td>4.91</td>\n",
       "      <td>3</td>\n",
       "    </tr>\n",
       "    <tr>\n",
       "      <th>COMUNA 10</th>\n",
       "      <th>1010000109</th>\n",
       "      <td>15192</td>\n",
       "      <td>738</td>\n",
       "      <td>4.86</td>\n",
       "      <td>3</td>\n",
       "    </tr>\n",
       "    <tr>\n",
       "      <th>COMUNA 15</th>\n",
       "      <th>1015000161</th>\n",
       "      <td>15639</td>\n",
       "      <td>759</td>\n",
       "      <td>4.85</td>\n",
       "      <td>3</td>\n",
       "    </tr>\n",
       "    <tr>\n",
       "      <th>COMUNA 10</th>\n",
       "      <th>1010000108</th>\n",
       "      <td>9711</td>\n",
       "      <td>470</td>\n",
       "      <td>4.84</td>\n",
       "      <td>3</td>\n",
       "    </tr>\n",
       "    <tr>\n",
       "      <th>COMUNA 06</th>\n",
       "      <th>1006000073</th>\n",
       "      <td>13841</td>\n",
       "      <td>670</td>\n",
       "      <td>4.84</td>\n",
       "      <td>3</td>\n",
       "    </tr>\n",
       "    <tr>\n",
       "      <th>COMUNA 05</th>\n",
       "      <th>1005000065</th>\n",
       "      <td>10511</td>\n",
       "      <td>508</td>\n",
       "      <td>4.83</td>\n",
       "      <td>3</td>\n",
       "    </tr>\n",
       "    <tr>\n",
       "      <th rowspan=\"2\" valign=\"top\">COMUNA 01</th>\n",
       "      <th>1001000016</th>\n",
       "      <td>5959</td>\n",
       "      <td>287</td>\n",
       "      <td>4.82</td>\n",
       "      <td>3</td>\n",
       "    </tr>\n",
       "    <tr>\n",
       "      <th>1001000001</th>\n",
       "      <td>7137</td>\n",
       "      <td>343</td>\n",
       "      <td>4.81</td>\n",
       "      <td>3</td>\n",
       "    </tr>\n",
       "    <tr>\n",
       "      <th>COMUNA 04</th>\n",
       "      <th>1004000044</th>\n",
       "      <td>7296</td>\n",
       "      <td>351</td>\n",
       "      <td>4.81</td>\n",
       "      <td>3</td>\n",
       "    </tr>\n",
       "    <tr>\n",
       "      <th rowspan=\"2\" valign=\"top\">COMUNA 05</th>\n",
       "      <th>1005000066</th>\n",
       "      <td>10201</td>\n",
       "      <td>490</td>\n",
       "      <td>4.80</td>\n",
       "      <td>3</td>\n",
       "    </tr>\n",
       "    <tr>\n",
       "      <th>1005000063</th>\n",
       "      <td>15545</td>\n",
       "      <td>741</td>\n",
       "      <td>4.77</td>\n",
       "      <td>3</td>\n",
       "    </tr>\n",
       "    <tr>\n",
       "      <th>COMUNA 15</th>\n",
       "      <th>1015000159</th>\n",
       "      <td>9436</td>\n",
       "      <td>450</td>\n",
       "      <td>4.77</td>\n",
       "      <td>3</td>\n",
       "    </tr>\n",
       "    <tr>\n",
       "      <th>COMUNA 05</th>\n",
       "      <th>1005000058</th>\n",
       "      <td>10885</td>\n",
       "      <td>518</td>\n",
       "      <td>4.76</td>\n",
       "      <td>3</td>\n",
       "    </tr>\n",
       "    <tr>\n",
       "      <th rowspan=\"2\" valign=\"top\">COMUNA 04</th>\n",
       "      <th>1004000049</th>\n",
       "      <td>9162</td>\n",
       "      <td>434</td>\n",
       "      <td>4.74</td>\n",
       "      <td>3</td>\n",
       "    </tr>\n",
       "    <tr>\n",
       "      <th>1004000043</th>\n",
       "      <td>9222</td>\n",
       "      <td>436</td>\n",
       "      <td>4.73</td>\n",
       "      <td>3</td>\n",
       "    </tr>\n",
       "    <tr>\n",
       "      <th>COMUNA 05</th>\n",
       "      <th>1005000060</th>\n",
       "      <td>12272</td>\n",
       "      <td>579</td>\n",
       "      <td>4.72</td>\n",
       "      <td>3</td>\n",
       "    </tr>\n",
       "    <tr>\n",
       "      <th>COMUNA 03</th>\n",
       "      <th>1003000035</th>\n",
       "      <td>9320</td>\n",
       "      <td>435</td>\n",
       "      <td>4.67</td>\n",
       "      <td>3</td>\n",
       "    </tr>\n",
       "    <tr>\n",
       "      <th>COMUNA 11</th>\n",
       "      <th>1011000115</th>\n",
       "      <td>9425</td>\n",
       "      <td>440</td>\n",
       "      <td>4.67</td>\n",
       "      <td>3</td>\n",
       "    </tr>\n",
       "    <tr>\n",
       "      <th>COMUNA 15</th>\n",
       "      <th>1015000163</th>\n",
       "      <td>9538</td>\n",
       "      <td>444</td>\n",
       "      <td>4.66</td>\n",
       "      <td>3</td>\n",
       "    </tr>\n",
       "    <tr>\n",
       "      <th>COMUNA 06</th>\n",
       "      <th>1006000068</th>\n",
       "      <td>15756</td>\n",
       "      <td>732</td>\n",
       "      <td>4.65</td>\n",
       "      <td>3</td>\n",
       "    </tr>\n",
       "    <tr>\n",
       "      <th>COMUNA 15</th>\n",
       "      <th>1015000158</th>\n",
       "      <td>15289</td>\n",
       "      <td>710</td>\n",
       "      <td>4.64</td>\n",
       "      <td>3</td>\n",
       "    </tr>\n",
       "    <tr>\n",
       "      <th rowspan=\"2\" valign=\"top\">COMUNA 04</th>\n",
       "      <th>1004000045</th>\n",
       "      <td>5354</td>\n",
       "      <td>248</td>\n",
       "      <td>4.63</td>\n",
       "      <td>3</td>\n",
       "    </tr>\n",
       "    <tr>\n",
       "      <th>1004000054</th>\n",
       "      <td>11533</td>\n",
       "      <td>528</td>\n",
       "      <td>4.58</td>\n",
       "      <td>3</td>\n",
       "    </tr>\n",
       "    <tr>\n",
       "      <th>COMUNA 09</th>\n",
       "      <th>1009000092</th>\n",
       "      <td>10706</td>\n",
       "      <td>489</td>\n",
       "      <td>4.57</td>\n",
       "      <td>3</td>\n",
       "    </tr>\n",
       "    <tr>\n",
       "      <th>COMUNA 04</th>\n",
       "      <th>1004000046</th>\n",
       "      <td>4894</td>\n",
       "      <td>223</td>\n",
       "      <td>4.56</td>\n",
       "      <td>3</td>\n",
       "    </tr>\n",
       "    <tr>\n",
       "      <th>COMUNA 01</th>\n",
       "      <th>1001000013</th>\n",
       "      <td>8908</td>\n",
       "      <td>406</td>\n",
       "      <td>4.56</td>\n",
       "      <td>3</td>\n",
       "    </tr>\n",
       "    <tr>\n",
       "      <th>COMUNA 10</th>\n",
       "      <th>1010000111</th>\n",
       "      <td>8598</td>\n",
       "      <td>390</td>\n",
       "      <td>4.54</td>\n",
       "      <td>3</td>\n",
       "    </tr>\n",
       "    <tr>\n",
       "      <th>COMUNA 04</th>\n",
       "      <th>1004000050</th>\n",
       "      <td>11010</td>\n",
       "      <td>498</td>\n",
       "      <td>4.52</td>\n",
       "      <td>3</td>\n",
       "    </tr>\n",
       "    <tr>\n",
       "      <th>COMUNA 11</th>\n",
       "      <th>1011000116</th>\n",
       "      <td>13646</td>\n",
       "      <td>615</td>\n",
       "      <td>4.51</td>\n",
       "      <td>3</td>\n",
       "    </tr>\n",
       "    <tr>\n",
       "      <th>COMUNA 14</th>\n",
       "      <th>1014000156</th>\n",
       "      <td>7567</td>\n",
       "      <td>341</td>\n",
       "      <td>4.51</td>\n",
       "      <td>3</td>\n",
       "    </tr>\n",
       "    <tr>\n",
       "      <th rowspan=\"2\" valign=\"top\">COMUNA 05</th>\n",
       "      <th>1005000064</th>\n",
       "      <td>16707</td>\n",
       "      <td>754</td>\n",
       "      <td>4.51</td>\n",
       "      <td>3</td>\n",
       "    </tr>\n",
       "    <tr>\n",
       "      <th>1005000062</th>\n",
       "      <td>8030</td>\n",
       "      <td>362</td>\n",
       "      <td>4.51</td>\n",
       "      <td>3</td>\n",
       "    </tr>\n",
       "    <tr>\n",
       "      <th>COMUNA 09</th>\n",
       "      <th>1009000094</th>\n",
       "      <td>8441</td>\n",
       "      <td>380</td>\n",
       "      <td>4.50</td>\n",
       "      <td>3</td>\n",
       "    </tr>\n",
       "    <tr>\n",
       "      <th>COMUNA 03</th>\n",
       "      <th>1003000033</th>\n",
       "      <td>6477</td>\n",
       "      <td>290</td>\n",
       "      <td>4.48</td>\n",
       "      <td>3</td>\n",
       "    </tr>\n",
       "  </tbody>\n",
       "</table>\n",
       "</div>"
      ],
      "text/plain": [
       "                               VOTOS_TOTALES  VOTOS_AGRUPACION  \\\n",
       "NOMBRE_REGION CODIGO_CIRCUITO                                    \n",
       "COMUNA 15     1015000164                8654               455   \n",
       "              1015000162               12689               658   \n",
       "COMUNA 05     1005000059               10370               537   \n",
       "COMUNA 03     1003000036                6242               322   \n",
       "COMUNA 01     1001000002                6643               335   \n",
       "COMUNA 05     1005000067               15739               785   \n",
       "COMUNA 06     1006000072               10797               533   \n",
       "COMUNA 15     1015000160               17775               874   \n",
       "COMUNA 03     1003000041               13765               676   \n",
       "COMUNA 10     1010000109               15192               738   \n",
       "COMUNA 15     1015000161               15639               759   \n",
       "COMUNA 10     1010000108                9711               470   \n",
       "COMUNA 06     1006000073               13841               670   \n",
       "COMUNA 05     1005000065               10511               508   \n",
       "COMUNA 01     1001000016                5959               287   \n",
       "              1001000001                7137               343   \n",
       "COMUNA 04     1004000044                7296               351   \n",
       "COMUNA 05     1005000066               10201               490   \n",
       "              1005000063               15545               741   \n",
       "COMUNA 15     1015000159                9436               450   \n",
       "COMUNA 05     1005000058               10885               518   \n",
       "COMUNA 04     1004000049                9162               434   \n",
       "              1004000043                9222               436   \n",
       "COMUNA 05     1005000060               12272               579   \n",
       "COMUNA 03     1003000035                9320               435   \n",
       "COMUNA 11     1011000115                9425               440   \n",
       "COMUNA 15     1015000163                9538               444   \n",
       "COMUNA 06     1006000068               15756               732   \n",
       "COMUNA 15     1015000158               15289               710   \n",
       "COMUNA 04     1004000045                5354               248   \n",
       "              1004000054               11533               528   \n",
       "COMUNA 09     1009000092               10706               489   \n",
       "COMUNA 04     1004000046                4894               223   \n",
       "COMUNA 01     1001000013                8908               406   \n",
       "COMUNA 10     1010000111                8598               390   \n",
       "COMUNA 04     1004000050               11010               498   \n",
       "COMUNA 11     1011000116               13646               615   \n",
       "COMUNA 14     1014000156                7567               341   \n",
       "COMUNA 05     1005000064               16707               754   \n",
       "              1005000062                8030               362   \n",
       "COMUNA 09     1009000094                8441               380   \n",
       "COMUNA 03     1003000033                6477               290   \n",
       "\n",
       "                               PORCENTAJE_AGRUPACION  CUARTIL  \n",
       "NOMBRE_REGION CODIGO_CIRCUITO                                  \n",
       "COMUNA 15     1015000164                        5.26        3  \n",
       "              1015000162                        5.19        3  \n",
       "COMUNA 05     1005000059                        5.18        3  \n",
       "COMUNA 03     1003000036                        5.16        3  \n",
       "COMUNA 01     1001000002                        5.04        3  \n",
       "COMUNA 05     1005000067                        4.99        3  \n",
       "COMUNA 06     1006000072                        4.94        3  \n",
       "COMUNA 15     1015000160                        4.92        3  \n",
       "COMUNA 03     1003000041                        4.91        3  \n",
       "COMUNA 10     1010000109                        4.86        3  \n",
       "COMUNA 15     1015000161                        4.85        3  \n",
       "COMUNA 10     1010000108                        4.84        3  \n",
       "COMUNA 06     1006000073                        4.84        3  \n",
       "COMUNA 05     1005000065                        4.83        3  \n",
       "COMUNA 01     1001000016                        4.82        3  \n",
       "              1001000001                        4.81        3  \n",
       "COMUNA 04     1004000044                        4.81        3  \n",
       "COMUNA 05     1005000066                        4.80        3  \n",
       "              1005000063                        4.77        3  \n",
       "COMUNA 15     1015000159                        4.77        3  \n",
       "COMUNA 05     1005000058                        4.76        3  \n",
       "COMUNA 04     1004000049                        4.74        3  \n",
       "              1004000043                        4.73        3  \n",
       "COMUNA 05     1005000060                        4.72        3  \n",
       "COMUNA 03     1003000035                        4.67        3  \n",
       "COMUNA 11     1011000115                        4.67        3  \n",
       "COMUNA 15     1015000163                        4.66        3  \n",
       "COMUNA 06     1006000068                        4.65        3  \n",
       "COMUNA 15     1015000158                        4.64        3  \n",
       "COMUNA 04     1004000045                        4.63        3  \n",
       "              1004000054                        4.58        3  \n",
       "COMUNA 09     1009000092                        4.57        3  \n",
       "COMUNA 04     1004000046                        4.56        3  \n",
       "COMUNA 01     1001000013                        4.56        3  \n",
       "COMUNA 10     1010000111                        4.54        3  \n",
       "COMUNA 04     1004000050                        4.52        3  \n",
       "COMUNA 11     1011000116                        4.51        3  \n",
       "COMUNA 14     1014000156                        4.51        3  \n",
       "COMUNA 05     1005000064                        4.51        3  \n",
       "              1005000062                        4.51        3  \n",
       "COMUNA 09     1009000094                        4.50        3  \n",
       "COMUNA 03     1003000033                        4.48        3  "
      ]
     },
     "execution_count": 10,
     "metadata": {},
     "output_type": "execute_result"
    }
   ],
   "source": [
    "porc_pres_circuito_fit_q75[porc_pres_circuito_fit_q75[\"CUARTIL\"] == 3].sort_values(by=[\"PORCENTAJE_AGRUPACION\"], ascending= False) "
   ]
  },
  {
   "cell_type": "markdown",
   "id": "c7651920",
   "metadata": {
    "slideshow": {
     "slide_type": "slide"
    }
   },
   "source": [
    "### Análisis 1.1:\n",
    "A primera vista podría parecer que estos circuitos (los que cuentan con un mayor porcentaje de votos para el FIT) deber priorizarse a la hora de buscar electores para acercarse al objetivo de convertirse en tercera fuerza a nivel presidencial\n",
    "\n",
    "\n",
    "Pero vamos a analizarlo un poco más a fondo"
   ]
  },
  {
   "cell_type": "markdown",
   "id": "5cc2335b",
   "metadata": {
    "slideshow": {
     "slide_type": "slide"
    }
   },
   "source": [
    "### 1.2\n",
    " Realizamos el mismo procedimiento de antes, pero esta vez dividiendo por Comunas dado que son las unidades geográfica pre-determinadas más claras con las que podemos trabajar por el momento"
   ]
  },
  {
   "cell_type": "code",
   "execution_count": 11,
   "id": "edeecb6f",
   "metadata": {
    "slideshow": {
     "slide_type": "subslide"
    }
   },
   "outputs": [],
   "source": [
    "def porcentaje_comuna(porcentaje_circuito):\n",
    "    \"\"\"\n",
    "    Función que en base al porcentaje por circuito\n",
    "    calcula el porcentaje por comuna\n",
    "    \"\"\"\n",
    "    porcentaje_comuna = (porcentaje_circuito.groupby(\"NOMBRE_REGION\")[\"VOTOS_TOTALES\", \"VOTOS_AGRUPACION\"].sum())\n",
    "    porcentaje_comuna[\"PORCENTAJE_AGRUPACION\"] = ((porcentaje_comuna[\"VOTOS_AGRUPACION\"] / porcentaje_comuna[\"VOTOS_TOTALES\"] * 100).round(2))\n",
    "\n",
    "    return porcentaje_comuna"
   ]
  },
  {
   "cell_type": "markdown",
   "id": "96b5c05d",
   "metadata": {
    "slideshow": {
     "slide_type": "slide"
    }
   },
   "source": [
    "#### Porcentaje de voto para el FIT, para la categoría \"Presidente y Vicepresidente\", por Comunas"
   ]
  },
  {
   "cell_type": "code",
   "execution_count": 12,
   "id": "84cd1a14",
   "metadata": {
    "slideshow": {
     "slide_type": "skip"
    }
   },
   "outputs": [
    {
     "name": "stderr",
     "output_type": "stream",
     "text": [
      "C:\\Users\\Usuario\\AppData\\Local\\Temp/ipykernel_2708/3274835435.py:6: FutureWarning: Indexing with multiple keys (implicitly converted to a tuple of keys) will be deprecated, use a list instead.\n",
      "  porcentaje_comuna = (porcentaje_circuito.groupby(\"NOMBRE_REGION\")[\"VOTOS_TOTALES\", \"VOTOS_AGRUPACION\"].sum())\n"
     ]
    }
   ],
   "source": [
    "porc_pres_comuna_fit = porcentaje_comuna(porc_pres_circuito_fit)"
   ]
  },
  {
   "cell_type": "code",
   "execution_count": 13,
   "id": "eebc9f00",
   "metadata": {
    "slideshow": {
     "slide_type": "-"
    }
   },
   "outputs": [
    {
     "data": {
      "text/html": [
       "<div>\n",
       "<style scoped>\n",
       "    .dataframe tbody tr th:only-of-type {\n",
       "        vertical-align: middle;\n",
       "    }\n",
       "\n",
       "    .dataframe tbody tr th {\n",
       "        vertical-align: top;\n",
       "    }\n",
       "\n",
       "    .dataframe thead th {\n",
       "        text-align: right;\n",
       "    }\n",
       "</style>\n",
       "<table border=\"1\" class=\"dataframe\">\n",
       "  <thead>\n",
       "    <tr style=\"text-align: right;\">\n",
       "      <th></th>\n",
       "      <th>VOTOS_TOTALES</th>\n",
       "      <th>VOTOS_AGRUPACION</th>\n",
       "      <th>PORCENTAJE_AGRUPACION</th>\n",
       "    </tr>\n",
       "    <tr>\n",
       "      <th>NOMBRE_REGION</th>\n",
       "      <th></th>\n",
       "      <th></th>\n",
       "      <th></th>\n",
       "    </tr>\n",
       "  </thead>\n",
       "  <tbody>\n",
       "    <tr>\n",
       "      <th>COMUNA 01</th>\n",
       "      <td>122034</td>\n",
       "      <td>4368</td>\n",
       "      <td>3.58</td>\n",
       "    </tr>\n",
       "    <tr>\n",
       "      <th>COMUNA 02</th>\n",
       "      <td>104294</td>\n",
       "      <td>2620</td>\n",
       "      <td>2.51</td>\n",
       "    </tr>\n",
       "    <tr>\n",
       "      <th>COMUNA 03</th>\n",
       "      <td>117157</td>\n",
       "      <td>5124</td>\n",
       "      <td>4.37</td>\n",
       "    </tr>\n",
       "    <tr>\n",
       "      <th>COMUNA 04</th>\n",
       "      <td>136899</td>\n",
       "      <td>5798</td>\n",
       "      <td>4.24</td>\n",
       "    </tr>\n",
       "    <tr>\n",
       "      <th>COMUNA 05</th>\n",
       "      <td>121975</td>\n",
       "      <td>5740</td>\n",
       "      <td>4.71</td>\n",
       "    </tr>\n",
       "    <tr>\n",
       "      <th>COMUNA 06</th>\n",
       "      <td>127594</td>\n",
       "      <td>5248</td>\n",
       "      <td>4.11</td>\n",
       "    </tr>\n",
       "    <tr>\n",
       "      <th>COMUNA 07</th>\n",
       "      <td>134121</td>\n",
       "      <td>5247</td>\n",
       "      <td>3.91</td>\n",
       "    </tr>\n",
       "    <tr>\n",
       "      <th>COMUNA 08</th>\n",
       "      <td>107120</td>\n",
       "      <td>4018</td>\n",
       "      <td>3.75</td>\n",
       "    </tr>\n",
       "    <tr>\n",
       "      <th>COMUNA 09</th>\n",
       "      <td>116632</td>\n",
       "      <td>4568</td>\n",
       "      <td>3.92</td>\n",
       "    </tr>\n",
       "    <tr>\n",
       "      <th>COMUNA 10</th>\n",
       "      <td>118733</td>\n",
       "      <td>5148</td>\n",
       "      <td>4.34</td>\n",
       "    </tr>\n",
       "    <tr>\n",
       "      <th>COMUNA 11</th>\n",
       "      <td>137736</td>\n",
       "      <td>5461</td>\n",
       "      <td>3.96</td>\n",
       "    </tr>\n",
       "    <tr>\n",
       "      <th>COMUNA 12</th>\n",
       "      <td>152159</td>\n",
       "      <td>6180</td>\n",
       "      <td>4.06</td>\n",
       "    </tr>\n",
       "    <tr>\n",
       "      <th>COMUNA 13</th>\n",
       "      <td>168762</td>\n",
       "      <td>5457</td>\n",
       "      <td>3.23</td>\n",
       "    </tr>\n",
       "    <tr>\n",
       "      <th>COMUNA 14</th>\n",
       "      <td>156784</td>\n",
       "      <td>4675</td>\n",
       "      <td>2.98</td>\n",
       "    </tr>\n",
       "    <tr>\n",
       "      <th>COMUNA 15</th>\n",
       "      <td>128547</td>\n",
       "      <td>6094</td>\n",
       "      <td>4.74</td>\n",
       "    </tr>\n",
       "  </tbody>\n",
       "</table>\n",
       "</div>"
      ],
      "text/plain": [
       "               VOTOS_TOTALES  VOTOS_AGRUPACION  PORCENTAJE_AGRUPACION\n",
       "NOMBRE_REGION                                                        \n",
       "COMUNA 01             122034              4368                   3.58\n",
       "COMUNA 02             104294              2620                   2.51\n",
       "COMUNA 03             117157              5124                   4.37\n",
       "COMUNA 04             136899              5798                   4.24\n",
       "COMUNA 05             121975              5740                   4.71\n",
       "COMUNA 06             127594              5248                   4.11\n",
       "COMUNA 07             134121              5247                   3.91\n",
       "COMUNA 08             107120              4018                   3.75\n",
       "COMUNA 09             116632              4568                   3.92\n",
       "COMUNA 10             118733              5148                   4.34\n",
       "COMUNA 11             137736              5461                   3.96\n",
       "COMUNA 12             152159              6180                   4.06\n",
       "COMUNA 13             168762              5457                   3.23\n",
       "COMUNA 14             156784              4675                   2.98\n",
       "COMUNA 15             128547              6094                   4.74"
      ]
     },
     "execution_count": 13,
     "metadata": {},
     "output_type": "execute_result"
    }
   ],
   "source": [
    "porc_pres_comuna_fit"
   ]
  },
  {
   "cell_type": "markdown",
   "id": "b32fcc28",
   "metadata": {
    "slideshow": {
     "slide_type": "slide"
    }
   },
   "source": [
    "Como podemos ver, el porcentaje de voto por comuna se encuentra entre el 2.51% (siendo la Comuna 2 -compuesta por el barrio de Recoleta- aquella en la que el FIT obtuvo menos votos presidenciales) y el 4.74% (siendo la Comuna 15 -compuesta por Chacarita, Villa Crespo, La Paternal, Villa Ortúzar, Agronomía y Parque Chas- aquella en la que el FIT obtuvo más votos presidenciales)\n"
   ]
  },
  {
   "cell_type": "markdown",
   "id": "ef7e7738",
   "metadata": {
    "slideshow": {
     "slide_type": "slide"
    }
   },
   "source": [
    "\n",
    "#### Gráfico de cantidad de votos presidenciales del partido FIT por comuna "
   ]
  },
  {
   "cell_type": "code",
   "execution_count": 14,
   "id": "3b7af066",
   "metadata": {
    "slideshow": {
     "slide_type": "-"
    }
   },
   "outputs": [
    {
     "data": {
      "text/plain": [
       "<AxesSubplot:xlabel='NOMBRE_REGION', ylabel='VOTOS_AGRUPACION'>"
      ]
     },
     "execution_count": 14,
     "metadata": {},
     "output_type": "execute_result"
    },
    {
     "data": {
      "image/png": "[encoded data removed]",
      "text/plain": [
       "<Figure size 1440x360 with 1 Axes>"
      ]
     },
     "metadata": {
      "needs_background": "light"
     },
     "output_type": "display_data"
    }
   ],
   "source": [
    "gr1 = porc_pres_comuna_fit.reset_index()\n",
    "gr1\n",
    "fig_dims = (20, 5)\n",
    "fig, ax = plt.subplots(figsize=fig_dims)\n",
    "sns.set(style = 'darkgrid')\n",
    "sns.barplot(y = 'VOTOS_AGRUPACION', x = 'NOMBRE_REGION', data= gr1.sort_values(by= 'VOTOS_AGRUPACION', ascending= False),ax=ax, color= 'blue', saturation = 0.5)"
   ]
  },
  {
   "cell_type": "markdown",
   "id": "21b19148",
   "metadata": {
    "slideshow": {
     "slide_type": "slide"
    }
   },
   "source": [
    "Como podemos observar en el gráfico anterior, en la gran mayoría de las comunas, el FIT obtuvo entre 4500 y 6000 votos en la categoría \"Presidente y Vicepresidente\". Vemos que hay una sola comuna en la que el FIT obtuvo menos de 3000 votos (la Comuna 2), seguida por la Comuna 8 (compuesta por los barrios de Villa Soldati, Villa Riachuelo, Villa Lugano) en la que el FIT obtuvo 4000 votos. Y, además, en dos de las Comunas obtuvo más de 6000 votos (la comuna 15 y la Comuna 12). "
   ]
  },
  {
   "cell_type": "markdown",
   "id": "44ec0fab",
   "metadata": {
    "slideshow": {
     "slide_type": "slide"
    }
   },
   "source": [
    "#### Gráfico de porcentaje de votos presidenciales del partido FIT por comuna "
   ]
  },
  {
   "cell_type": "code",
   "execution_count": 15,
   "id": "f4877c7e",
   "metadata": {
    "slideshow": {
     "slide_type": "-"
    }
   },
   "outputs": [
    {
     "data": {
      "text/plain": [
       "Text(0.5, 1.0, 'Porcentaje de votos al FIT por comuna')"
      ]
     },
     "execution_count": 15,
     "metadata": {},
     "output_type": "execute_result"
    },
    {
     "data": {
      "image/png": "[encoded data removed]",
      "text/plain": [
       "<Figure size 1440x360 with 1 Axes>"
      ]
     },
     "metadata": {},
     "output_type": "display_data"
    }
   ],
   "source": [
    "fig_dims = (20, 5)\n",
    "fig, ax = plt.subplots(figsize=fig_dims)\n",
    "sns.barplot(y = 'PORCENTAJE_AGRUPACION', x = 'NOMBRE_REGION', data= gr1,ax=ax, color= 'blue', saturation = 0.5)\n",
    "plt.xticks(rotation=90)\n",
    "ytick = np.arange(0,5,0.25)\n",
    "plt.yticks(ytick)\n",
    "plt.ylabel('Porcentajes a voto presidencial')\n",
    "plt.xlabel('Comunas')\n",
    "plt.title('Porcentaje de votos al FIT por comuna')"
   ]
  },
  {
   "cell_type": "code",
   "execution_count": null,
   "id": "3e107c76",
   "metadata": {},
   "outputs": [],
   "source": []
  },
  {
   "cell_type": "markdown",
   "id": "d0415144",
   "metadata": {},
   "source": [
    "Si hablamos en términos de porcentaje, la diferencia continúa siendo evidente, y podemos observar claramente que algunas comunas (como la Comuna 15) prácticamente doblan la cantidad de votos de otras (como la Comuna 2)."
   ]
  },
  {
   "cell_type": "markdown",
   "id": "1ade8409",
   "metadata": {
    "slideshow": {
     "slide_type": "slide"
    }
   },
   "source": [
    "#### Comunas que superan el cuarto cuartil\n",
    "###### (Los valores del último cuartil figuran como Cuartil N°3, dado que Pandas empieza a contar desde 0)"
   ]
  },
  {
   "cell_type": "code",
   "execution_count": 16,
   "id": "8d009300",
   "metadata": {
    "slideshow": {
     "slide_type": "skip"
    }
   },
   "outputs": [],
   "source": [
    "porc_pres_comuna_fit_q75 = porc_pres_comuna_fit.copy()\n",
    "porc_pres_comuna_fit_q75\n",
    "porc_pres_comuna_fit_q75[\"CUARTIL\"] = pd.qcut(porc_pres_comuna_fit_q75[\"PORCENTAJE_AGRUPACION\"],q=4, labels= False)"
   ]
  },
  {
   "cell_type": "code",
   "execution_count": 17,
   "id": "c54ee9c9",
   "metadata": {
    "slideshow": {
     "slide_type": "-"
    }
   },
   "outputs": [
    {
     "data": {
      "text/html": [
       "<div>\n",
       "<style scoped>\n",
       "    .dataframe tbody tr th:only-of-type {\n",
       "        vertical-align: middle;\n",
       "    }\n",
       "\n",
       "    .dataframe tbody tr th {\n",
       "        vertical-align: top;\n",
       "    }\n",
       "\n",
       "    .dataframe thead th {\n",
       "        text-align: right;\n",
       "    }\n",
       "</style>\n",
       "<table border=\"1\" class=\"dataframe\">\n",
       "  <thead>\n",
       "    <tr style=\"text-align: right;\">\n",
       "      <th></th>\n",
       "      <th>VOTOS_TOTALES</th>\n",
       "      <th>VOTOS_AGRUPACION</th>\n",
       "      <th>PORCENTAJE_AGRUPACION</th>\n",
       "      <th>CUARTIL</th>\n",
       "    </tr>\n",
       "    <tr>\n",
       "      <th>NOMBRE_REGION</th>\n",
       "      <th></th>\n",
       "      <th></th>\n",
       "      <th></th>\n",
       "      <th></th>\n",
       "    </tr>\n",
       "  </thead>\n",
       "  <tbody>\n",
       "    <tr>\n",
       "      <th>COMUNA 15</th>\n",
       "      <td>128547</td>\n",
       "      <td>6094</td>\n",
       "      <td>4.74</td>\n",
       "      <td>3</td>\n",
       "    </tr>\n",
       "    <tr>\n",
       "      <th>COMUNA 05</th>\n",
       "      <td>121975</td>\n",
       "      <td>5740</td>\n",
       "      <td>4.71</td>\n",
       "      <td>3</td>\n",
       "    </tr>\n",
       "    <tr>\n",
       "      <th>COMUNA 03</th>\n",
       "      <td>117157</td>\n",
       "      <td>5124</td>\n",
       "      <td>4.37</td>\n",
       "      <td>3</td>\n",
       "    </tr>\n",
       "    <tr>\n",
       "      <th>COMUNA 10</th>\n",
       "      <td>118733</td>\n",
       "      <td>5148</td>\n",
       "      <td>4.34</td>\n",
       "      <td>3</td>\n",
       "    </tr>\n",
       "  </tbody>\n",
       "</table>\n",
       "</div>"
      ],
      "text/plain": [
       "               VOTOS_TOTALES  VOTOS_AGRUPACION  PORCENTAJE_AGRUPACION  CUARTIL\n",
       "NOMBRE_REGION                                                                 \n",
       "COMUNA 15             128547              6094                   4.74        3\n",
       "COMUNA 05             121975              5740                   4.71        3\n",
       "COMUNA 03             117157              5124                   4.37        3\n",
       "COMUNA 10             118733              5148                   4.34        3"
      ]
     },
     "execution_count": 17,
     "metadata": {},
     "output_type": "execute_result"
    }
   ],
   "source": [
    "porc_pres_comuna_fit_q75[porc_pres_comuna_fit_q75[\"CUARTIL\"] == 3].sort_values(by=[\"PORCENTAJE_AGRUPACION\"], ascending= False) "
   ]
  },
  {
   "cell_type": "markdown",
   "id": "87e84e8c",
   "metadata": {
    "slideshow": {
     "slide_type": "slide"
    }
   },
   "source": [
    "#### Gráfico de porcentaje de votos presidenciales del partido FIT ordenados de mayor a menor por comuna "
   ]
  },
  {
   "cell_type": "code",
   "execution_count": 18,
   "id": "501e688b",
   "metadata": {
    "slideshow": {
     "slide_type": "-"
    }
   },
   "outputs": [
    {
     "data": {
      "text/plain": [
       "Text(0.5, 1.0, 'Porcentaje de votos al FIT por comuna')"
      ]
     },
     "execution_count": 18,
     "metadata": {},
     "output_type": "execute_result"
    },
    {
     "data": {
      "image/png": "[encoded data removed]",
      "text/plain": [
       "<Figure size 1440x720 with 1 Axes>"
      ]
     },
     "metadata": {},
     "output_type": "display_data"
    }
   ],
   "source": [
    "fig_dims = (20, 10)\n",
    "fig, ax = plt.subplots(figsize=fig_dims)\n",
    "sns.barplot(y = 'PORCENTAJE_AGRUPACION', x = 'NOMBRE_REGION', data= gr1.sort_values(by='PORCENTAJE_AGRUPACION', ascending= False),ax=ax, hue= 'VOTOS_AGRUPACION', palette= 'Blues_d', dodge= False)\n",
    "plt.xticks(rotation=90)\n",
    "ytick = np.arange(0,5,0.25)\n",
    "plt.yticks(ytick)\n",
    "plt.ylabel('Porcentajes a voto presidencial')\n",
    "plt.xlabel('Comunas')\n",
    "plt.legend(title= 'Votos absolutos para Presidente')\n",
    "plt.title('Porcentaje de votos al FIT por comuna')"
   ]
  },
  {
   "cell_type": "markdown",
   "id": "c3d3832a",
   "metadata": {},
   "source": [
    "Como observamos en el gráfico anterior, se presenta una diferencia marcada entre las dos comunas en las que el FIT obtuvo mayor cantidad de votos presidenciales (la Comuna 15 y la Comuna 5) con respecto a la que se encuentra tercera en ese orden (la Comuna 3), sin embargo, luego el gráfico decrece de manera menos abrupta, hasta llegar a la Comuna 13, la cuál presenta una diferencia más marcada que las anteriores con respecto a la comuna que la precede en cantidad de votos, de ahí en más el decrecimiento de la cantidad de votos de una comuna a otra se va dando de manera más abrupta. Como es de esperar, pareciera ser que hay pocas Comunas en las que el voto al FIT es alto (en relación a su porcentaje de voto histórico), pocas comunas en las que el voto al FIT es bajo, y muchas columnas en las que el porcentaje de votos se ubica en un nivel intermedio. \n",
    "\n",
    "Sin embargo, recordando el primer gráfico (el de voto total) la Comuna 13 tiene un importante caudal de votos aunque no sea tan grande en porcentaje. Lo cual se puede ver en su color fuerte. Sucede algo similar (pero menos marcado) con la comuna 07 "
   ]
  },
  {
   "cell_type": "markdown",
   "id": "149270db",
   "metadata": {},
   "source": [
    " Ahora obtenemos la media del porcentaje de votos obtenidos por comuna por el FIT en la categoría \"Presidente y Vicepresidente\""
   ]
  },
  {
   "cell_type": "markdown",
   "id": "fd05c008",
   "metadata": {
    "slideshow": {
     "slide_type": "slide"
    }
   },
   "source": [
    "### Análisis 1.2:\n",
    "Ahora bien. A la hora de plantear una estrategia más general, hay una serie de cosas que debemos tener en cuenta. Por empezar, el Frente de Izquieda y los trabajadores - Unidad es un frente electoral que se encuentra conformado por partidos relativamente pequeños (al menos si lo comparamos con el Frente de Todos y con Juntos por el Cambio, los partidos mayoritarios). Dada esta situación, debemos ser realistas, y enfocarnos en aquellas comunas que puedan ser, en la práctica, abarcadas por el FIT, con una cantidad limitada de militantes. \n"
   ]
  },
  {
   "cell_type": "markdown",
   "id": "75713767",
   "metadata": {
    "slideshow": {
     "slide_type": "slide"
    }
   },
   "source": [
    "#### Dado lo anterior,se priorizaran las comunas 15, 05, 04, 12, 13, 03, y 10\n",
    "Pero a continuación intentaremos establecer un orden de prioridades. "
   ]
  },
  {
   "cell_type": "markdown",
   "id": "d0ae2c8f",
   "metadata": {
    "slideshow": {
     "slide_type": "slide"
    }
   },
   "source": [
    "### 2.1\n",
    "#### Corte de boleta\n",
    " Dada la estrategia que el FIT viene llevando hace algunos años (intentar garantizar su presencia en el congreso, mediante el voto a Diputados Nacionales) podríamos pensar que el fenómenos del corte de boleta podría ser relevante a la hora de analizar los resultados electorales del frente. Por lo que nos proponemos analizarlo a continuación"
   ]
  },
  {
   "cell_type": "markdown",
   "id": "8e3df142",
   "metadata": {},
   "source": [
    "Declaramos una función que calcula la diferencia entre el voto a presidente y el voto a diputados nacionales, aplicable para todos los frentes/partidos"
   ]
  },
  {
   "cell_type": "code",
   "execution_count": 19,
   "id": "6f09e6aa",
   "metadata": {
    "slideshow": {
     "slide_type": "subslide"
    }
   },
   "outputs": [],
   "source": [
    "def corte_boleta(porc_pres, porc_dip):\n",
    "    \"\"\"\n",
    "    Resta el voto en categoría Diputado con el Presidencial \n",
    "    para cualcular corte de boleta\n",
    "    \"\"\"\n",
    "    \n",
    "    porc_pres = porc_pres.rename(columns={\"VOTOS_TOTALES\": \"VOTOS_TOTALES_PRES\", \"VOTOS_AGRUPACION\": \"VOTOS_AGRUPACION_PRES\", \"PORCENTAJE_AGRUPACION\": \"PORCENTAJE_AGRUPACION_PRES\"})\n",
    "    porc_dip = porc_dip.rename(columns={\"VOTOS_TOTALES\": \"VOTOS_TOTALES_DIP\", \"VOTOS_AGRUPACION\": \"VOTOS_AGRUPACION_DIP\", \"PORCENTAJE_AGRUPACION\": \"PORCENTAJE_AGRUPACION_DIP\"})\n",
    "\n",
    "    comparacion_pres_dip = pd.merge(porc_pres, porc_dip, left_index=True, right_index=True)\n",
    "\n",
    "    comparacion_pres_dip[\"DIFERENCIA_ABS_DIP_PRES\"] = (comparacion_pres_dip[\"VOTOS_AGRUPACION_DIP\"] - comparacion_pres_dip[\"VOTOS_AGRUPACION_PRES\"])\n",
    "    comparacion_pres_dip[\"DIFERENCIA_REL_DIP_PRES\"] = (comparacion_pres_dip[\"PORCENTAJE_AGRUPACION_DIP\"] - comparacion_pres_dip[\"PORCENTAJE_AGRUPACION_PRES\"])\n",
    "\n",
    "    return comparacion_pres_dip"
   ]
  },
  {
   "cell_type": "markdown",
   "id": "cb55e86e",
   "metadata": {},
   "source": [
    "Resultados totales en cada mesa solo para Diputado Nacional"
   ]
  },
  {
   "cell_type": "code",
   "execution_count": 20,
   "id": "6583dd17",
   "metadata": {
    "slideshow": {
     "slide_type": "skip"
    }
   },
   "outputs": [],
   "source": [
    "resultCABA_dip_total = resultCABA[resultCABA[\"NOMBRE_CATEGORIA\"] == \"Diputados Nacionales Ciudad Autónoma de Buenos Aires\"]"
   ]
  },
  {
   "cell_type": "markdown",
   "id": "7fdaedc2",
   "metadata": {},
   "source": [
    "Resultados del FIT en cada mesa solo para Diputado"
   ]
  },
  {
   "cell_type": "code",
   "execution_count": 21,
   "id": "dbee9410",
   "metadata": {},
   "outputs": [],
   "source": [
    "resultCABA_dip_fit = resultCABA[(resultCABA[\"NOMBRE_CATEGORIA\"] == \"Diputados Nacionales Ciudad Autónoma de Buenos Aires\") & (resultCABA[\"NOMBRE_AGRUPACION\"] == \"FRENTE DE IZQUIERDA Y DE TRABAJADORES - UNIDAD\")]\n"
   ]
  },
  {
   "cell_type": "markdown",
   "id": "0c866601",
   "metadata": {
    "slideshow": {
     "slide_type": "slide"
    }
   },
   "source": [
    "#### Porcentaje de Diputados Nacionales del FIT por circuito\n"
   ]
  },
  {
   "cell_type": "code",
   "execution_count": 22,
   "id": "ab1a47dc",
   "metadata": {
    "slideshow": {
     "slide_type": "skip"
    }
   },
   "outputs": [],
   "source": [
    "porc_dip_circ_fit = porcentaje_circuito(resultCABA_dip_total, resultCABA_dip_fit)"
   ]
  },
  {
   "cell_type": "code",
   "execution_count": 23,
   "id": "cc94a1e1",
   "metadata": {
    "slideshow": {
     "slide_type": "-"
    }
   },
   "outputs": [
    {
     "data": {
      "text/html": [
       "<div>\n",
       "<style scoped>\n",
       "    .dataframe tbody tr th:only-of-type {\n",
       "        vertical-align: middle;\n",
       "    }\n",
       "\n",
       "    .dataframe tbody tr th {\n",
       "        vertical-align: top;\n",
       "    }\n",
       "\n",
       "    .dataframe thead th {\n",
       "        text-align: right;\n",
       "    }\n",
       "</style>\n",
       "<table border=\"1\" class=\"dataframe\">\n",
       "  <thead>\n",
       "    <tr style=\"text-align: right;\">\n",
       "      <th></th>\n",
       "      <th></th>\n",
       "      <th>VOTOS_TOTALES</th>\n",
       "      <th>VOTOS_AGRUPACION</th>\n",
       "      <th>PORCENTAJE_AGRUPACION</th>\n",
       "    </tr>\n",
       "    <tr>\n",
       "      <th>NOMBRE_REGION</th>\n",
       "      <th>CODIGO_CIRCUITO</th>\n",
       "      <th></th>\n",
       "      <th></th>\n",
       "      <th></th>\n",
       "    </tr>\n",
       "  </thead>\n",
       "  <tbody>\n",
       "    <tr>\n",
       "      <th rowspan=\"5\" valign=\"top\">COMUNA 01</th>\n",
       "      <th>1001000001</th>\n",
       "      <td>7115</td>\n",
       "      <td>414</td>\n",
       "      <td>5.82</td>\n",
       "    </tr>\n",
       "    <tr>\n",
       "      <th>1001000002</th>\n",
       "      <td>6635</td>\n",
       "      <td>401</td>\n",
       "      <td>6.04</td>\n",
       "    </tr>\n",
       "    <tr>\n",
       "      <th>1001000003</th>\n",
       "      <td>3377</td>\n",
       "      <td>47</td>\n",
       "      <td>1.39</td>\n",
       "    </tr>\n",
       "    <tr>\n",
       "      <th>1001000005</th>\n",
       "      <td>5393</td>\n",
       "      <td>182</td>\n",
       "      <td>3.37</td>\n",
       "    </tr>\n",
       "    <tr>\n",
       "      <th>1001000006</th>\n",
       "      <td>11100</td>\n",
       "      <td>187</td>\n",
       "      <td>1.68</td>\n",
       "    </tr>\n",
       "    <tr>\n",
       "      <th>...</th>\n",
       "      <th>...</th>\n",
       "      <td>...</td>\n",
       "      <td>...</td>\n",
       "      <td>...</td>\n",
       "    </tr>\n",
       "    <tr>\n",
       "      <th rowspan=\"5\" valign=\"top\">COMUNA 15</th>\n",
       "      <th>1015000163</th>\n",
       "      <td>9521</td>\n",
       "      <td>581</td>\n",
       "      <td>6.10</td>\n",
       "    </tr>\n",
       "    <tr>\n",
       "      <th>1015000164</th>\n",
       "      <td>8653</td>\n",
       "      <td>593</td>\n",
       "      <td>6.85</td>\n",
       "    </tr>\n",
       "    <tr>\n",
       "      <th>1015000165</th>\n",
       "      <td>15825</td>\n",
       "      <td>915</td>\n",
       "      <td>5.78</td>\n",
       "    </tr>\n",
       "    <tr>\n",
       "      <th>1015000166</th>\n",
       "      <td>13177</td>\n",
       "      <td>772</td>\n",
       "      <td>5.86</td>\n",
       "    </tr>\n",
       "    <tr>\n",
       "      <th>1015000167</th>\n",
       "      <td>10606</td>\n",
       "      <td>563</td>\n",
       "      <td>5.31</td>\n",
       "    </tr>\n",
       "  </tbody>\n",
       "</table>\n",
       "<p>166 rows × 3 columns</p>\n",
       "</div>"
      ],
      "text/plain": [
       "                               VOTOS_TOTALES  VOTOS_AGRUPACION  \\\n",
       "NOMBRE_REGION CODIGO_CIRCUITO                                    \n",
       "COMUNA 01     1001000001                7115               414   \n",
       "              1001000002                6635               401   \n",
       "              1001000003                3377                47   \n",
       "              1001000005                5393               182   \n",
       "              1001000006               11100               187   \n",
       "...                                      ...               ...   \n",
       "COMUNA 15     1015000163                9521               581   \n",
       "              1015000164                8653               593   \n",
       "              1015000165               15825               915   \n",
       "              1015000166               13177               772   \n",
       "              1015000167               10606               563   \n",
       "\n",
       "                               PORCENTAJE_AGRUPACION  \n",
       "NOMBRE_REGION CODIGO_CIRCUITO                         \n",
       "COMUNA 01     1001000001                        5.82  \n",
       "              1001000002                        6.04  \n",
       "              1001000003                        1.39  \n",
       "              1001000005                        3.37  \n",
       "              1001000006                        1.68  \n",
       "...                                              ...  \n",
       "COMUNA 15     1015000163                        6.10  \n",
       "              1015000164                        6.85  \n",
       "              1015000165                        5.78  \n",
       "              1015000166                        5.86  \n",
       "              1015000167                        5.31  \n",
       "\n",
       "[166 rows x 3 columns]"
      ]
     },
     "execution_count": 23,
     "metadata": {},
     "output_type": "execute_result"
    }
   ],
   "source": [
    "porc_dip_circ_fit"
   ]
  },
  {
   "cell_type": "markdown",
   "id": "14ad8b0e",
   "metadata": {
    "slideshow": {
     "slide_type": "slide"
    }
   },
   "source": [
    "####  Porcentaje de Diputados Nacionales del FIT por comuna"
   ]
  },
  {
   "cell_type": "code",
   "execution_count": 24,
   "id": "7bd5364e",
   "metadata": {
    "slideshow": {
     "slide_type": "skip"
    }
   },
   "outputs": [
    {
     "name": "stderr",
     "output_type": "stream",
     "text": [
      "C:\\Users\\Usuario\\AppData\\Local\\Temp/ipykernel_2708/3274835435.py:6: FutureWarning: Indexing with multiple keys (implicitly converted to a tuple of keys) will be deprecated, use a list instead.\n",
      "  porcentaje_comuna = (porcentaje_circuito.groupby(\"NOMBRE_REGION\")[\"VOTOS_TOTALES\", \"VOTOS_AGRUPACION\"].sum())\n"
     ]
    }
   ],
   "source": [
    "porc_dip_comuna_fit = porcentaje_comuna(porc_dip_circ_fit)"
   ]
  },
  {
   "cell_type": "code",
   "execution_count": 25,
   "id": "991464c3",
   "metadata": {
    "slideshow": {
     "slide_type": "-"
    }
   },
   "outputs": [
    {
     "data": {
      "text/html": [
       "<div>\n",
       "<style scoped>\n",
       "    .dataframe tbody tr th:only-of-type {\n",
       "        vertical-align: middle;\n",
       "    }\n",
       "\n",
       "    .dataframe tbody tr th {\n",
       "        vertical-align: top;\n",
       "    }\n",
       "\n",
       "    .dataframe thead th {\n",
       "        text-align: right;\n",
       "    }\n",
       "</style>\n",
       "<table border=\"1\" class=\"dataframe\">\n",
       "  <thead>\n",
       "    <tr style=\"text-align: right;\">\n",
       "      <th></th>\n",
       "      <th>VOTOS_TOTALES</th>\n",
       "      <th>VOTOS_AGRUPACION</th>\n",
       "      <th>PORCENTAJE_AGRUPACION</th>\n",
       "    </tr>\n",
       "    <tr>\n",
       "      <th>NOMBRE_REGION</th>\n",
       "      <th></th>\n",
       "      <th></th>\n",
       "      <th></th>\n",
       "    </tr>\n",
       "  </thead>\n",
       "  <tbody>\n",
       "    <tr>\n",
       "      <th>COMUNA 01</th>\n",
       "      <td>121775</td>\n",
       "      <td>5149</td>\n",
       "      <td>4.23</td>\n",
       "    </tr>\n",
       "    <tr>\n",
       "      <th>COMUNA 02</th>\n",
       "      <td>103939</td>\n",
       "      <td>3261</td>\n",
       "      <td>3.14</td>\n",
       "    </tr>\n",
       "    <tr>\n",
       "      <th>COMUNA 03</th>\n",
       "      <td>116979</td>\n",
       "      <td>6062</td>\n",
       "      <td>5.18</td>\n",
       "    </tr>\n",
       "    <tr>\n",
       "      <th>COMUNA 04</th>\n",
       "      <td>136912</td>\n",
       "      <td>6427</td>\n",
       "      <td>4.69</td>\n",
       "    </tr>\n",
       "    <tr>\n",
       "      <th>COMUNA 05</th>\n",
       "      <td>121949</td>\n",
       "      <td>7065</td>\n",
       "      <td>5.79</td>\n",
       "    </tr>\n",
       "    <tr>\n",
       "      <th>COMUNA 06</th>\n",
       "      <td>127597</td>\n",
       "      <td>6597</td>\n",
       "      <td>5.17</td>\n",
       "    </tr>\n",
       "    <tr>\n",
       "      <th>COMUNA 07</th>\n",
       "      <td>133888</td>\n",
       "      <td>6361</td>\n",
       "      <td>4.75</td>\n",
       "    </tr>\n",
       "    <tr>\n",
       "      <th>COMUNA 08</th>\n",
       "      <td>106347</td>\n",
       "      <td>4164</td>\n",
       "      <td>3.92</td>\n",
       "    </tr>\n",
       "    <tr>\n",
       "      <th>COMUNA 09</th>\n",
       "      <td>116615</td>\n",
       "      <td>5056</td>\n",
       "      <td>4.34</td>\n",
       "    </tr>\n",
       "    <tr>\n",
       "      <th>COMUNA 10</th>\n",
       "      <td>118715</td>\n",
       "      <td>5900</td>\n",
       "      <td>4.97</td>\n",
       "    </tr>\n",
       "    <tr>\n",
       "      <th>COMUNA 11</th>\n",
       "      <td>137473</td>\n",
       "      <td>6413</td>\n",
       "      <td>4.66</td>\n",
       "    </tr>\n",
       "    <tr>\n",
       "      <th>COMUNA 12</th>\n",
       "      <td>151949</td>\n",
       "      <td>7440</td>\n",
       "      <td>4.90</td>\n",
       "    </tr>\n",
       "    <tr>\n",
       "      <th>COMUNA 13</th>\n",
       "      <td>168452</td>\n",
       "      <td>6982</td>\n",
       "      <td>4.14</td>\n",
       "    </tr>\n",
       "    <tr>\n",
       "      <th>COMUNA 14</th>\n",
       "      <td>156863</td>\n",
       "      <td>6070</td>\n",
       "      <td>3.87</td>\n",
       "    </tr>\n",
       "    <tr>\n",
       "      <th>COMUNA 15</th>\n",
       "      <td>128567</td>\n",
       "      <td>7848</td>\n",
       "      <td>6.10</td>\n",
       "    </tr>\n",
       "  </tbody>\n",
       "</table>\n",
       "</div>"
      ],
      "text/plain": [
       "               VOTOS_TOTALES  VOTOS_AGRUPACION  PORCENTAJE_AGRUPACION\n",
       "NOMBRE_REGION                                                        \n",
       "COMUNA 01             121775              5149                   4.23\n",
       "COMUNA 02             103939              3261                   3.14\n",
       "COMUNA 03             116979              6062                   5.18\n",
       "COMUNA 04             136912              6427                   4.69\n",
       "COMUNA 05             121949              7065                   5.79\n",
       "COMUNA 06             127597              6597                   5.17\n",
       "COMUNA 07             133888              6361                   4.75\n",
       "COMUNA 08             106347              4164                   3.92\n",
       "COMUNA 09             116615              5056                   4.34\n",
       "COMUNA 10             118715              5900                   4.97\n",
       "COMUNA 11             137473              6413                   4.66\n",
       "COMUNA 12             151949              7440                   4.90\n",
       "COMUNA 13             168452              6982                   4.14\n",
       "COMUNA 14             156863              6070                   3.87\n",
       "COMUNA 15             128567              7848                   6.10"
      ]
     },
     "execution_count": 25,
     "metadata": {},
     "output_type": "execute_result"
    }
   ],
   "source": [
    "porc_dip_comuna_fit"
   ]
  },
  {
   "cell_type": "markdown",
   "id": "2585abbd",
   "metadata": {
    "slideshow": {
     "slide_type": "slide"
    }
   },
   "source": [
    "#### Gráfico de cantidad de votos a diputados del partido FIT por comuna "
   ]
  },
  {
   "cell_type": "code",
   "execution_count": 26,
   "id": "cd1a6727",
   "metadata": {
    "slideshow": {
     "slide_type": "-"
    }
   },
   "outputs": [
    {
     "data": {
      "text/plain": [
       "<AxesSubplot:xlabel='NOMBRE_REGION', ylabel='VOTOS_AGRUPACION'>"
      ]
     },
     "execution_count": 26,
     "metadata": {},
     "output_type": "execute_result"
    },
    {
     "data": {
      "image/png": "[encoded data removed]",
      "text/plain": [
       "<Figure size 1440x360 with 1 Axes>"
      ]
     },
     "metadata": {},
     "output_type": "display_data"
    }
   ],
   "source": [
    "gr2 = porc_dip_comuna_fit.reset_index()\n",
    "fig_dims = (20, 5)\n",
    "fig, ax = plt.subplots(figsize=fig_dims)\n",
    "sns.set(style = 'darkgrid')\n",
    "sns.barplot(y = 'VOTOS_AGRUPACION', x = 'NOMBRE_REGION', data= gr2.sort_values(by= 'VOTOS_AGRUPACION', ascending= False),ax=ax, color= 'red', saturation = 0.5)"
   ]
  },
  {
   "cell_type": "markdown",
   "id": "ae2d6bc7",
   "metadata": {
    "slideshow": {
     "slide_type": "slide"
    }
   },
   "source": [
    "#### Gráfico de porcentaje de votos a diputados del partido FIT por comuna "
   ]
  },
  {
   "cell_type": "code",
   "execution_count": 49,
   "id": "23e2de9d",
   "metadata": {
    "slideshow": {
     "slide_type": "-"
    }
   },
   "outputs": [
    {
     "data": {
      "text/plain": [
       "Text(0.5, 1.0, 'Porcentaje de votos al FIT por comuna. Categoría Diputados')"
      ]
     },
     "execution_count": 49,
     "metadata": {},
     "output_type": "execute_result"
    },
    {
     "data": {
      "image/png": "[encoded data removed]",
      "text/plain": [
       "<Figure size 1440x720 with 1 Axes>"
      ]
     },
     "metadata": {},
     "output_type": "display_data"
    }
   ],
   "source": [
    "fig_dims = (20, 10)\n",
    "fig, ax = plt.subplots(figsize=fig_dims)\n",
    "sns.barplot(y = 'PORCENTAJE_AGRUPACION', x = 'NOMBRE_REGION', data= gr2.sort_values(by='PORCENTAJE_AGRUPACION', ascending= False),ax=ax, hue= 'VOTOS_AGRUPACION', palette= 'Reds_d', dodge= False)\n",
    "plt.xticks(rotation=90)\n",
    "ytick = np.arange(0,7,0.25)\n",
    "plt.yticks(ytick)\n",
    "plt.ylabel('Porcentajes a voto diputados')\n",
    "plt.xlabel('Comunas')\n",
    "plt.legend(title= 'Votos absolutos. Categoría Diputados')\n",
    "plt.title('Porcentaje de votos al FIT por comuna. Categoría Diputados')\n",
    "\n",
    "\n"
   ]
  },
  {
   "cell_type": "markdown",
   "id": "10a9844c",
   "metadata": {
    "slideshow": {
     "slide_type": "slide"
    }
   },
   "source": [
    "Nuevamente obtenemos la media del voto a diputados nacionales por comuna al FIT"
   ]
  },
  {
   "cell_type": "markdown",
   "id": "2ef47336",
   "metadata": {
    "slideshow": {
     "slide_type": "slide"
    }
   },
   "source": [
    "#### Diferencia entre el voto a diputados nacionales y el presidencial por circuitos\n"
   ]
  },
  {
   "cell_type": "code",
   "execution_count": 28,
   "id": "3693f212",
   "metadata": {},
   "outputs": [
    {
     "data": {
      "text/html": [
       "<div>\n",
       "<style scoped>\n",
       "    .dataframe tbody tr th:only-of-type {\n",
       "        vertical-align: middle;\n",
       "    }\n",
       "\n",
       "    .dataframe tbody tr th {\n",
       "        vertical-align: top;\n",
       "    }\n",
       "\n",
       "    .dataframe thead th {\n",
       "        text-align: right;\n",
       "    }\n",
       "</style>\n",
       "<table border=\"1\" class=\"dataframe\">\n",
       "  <thead>\n",
       "    <tr style=\"text-align: right;\">\n",
       "      <th></th>\n",
       "      <th></th>\n",
       "      <th>VOTOS_TOTALES_PRES</th>\n",
       "      <th>VOTOS_AGRUPACION_PRES</th>\n",
       "      <th>PORCENTAJE_AGRUPACION_PRES</th>\n",
       "      <th>VOTOS_TOTALES_DIP</th>\n",
       "      <th>VOTOS_AGRUPACION_DIP</th>\n",
       "      <th>PORCENTAJE_AGRUPACION_DIP</th>\n",
       "      <th>DIFERENCIA_ABS_DIP_PRES</th>\n",
       "      <th>DIFERENCIA_REL_DIP_PRES</th>\n",
       "    </tr>\n",
       "    <tr>\n",
       "      <th>NOMBRE_REGION</th>\n",
       "      <th>CODIGO_CIRCUITO</th>\n",
       "      <th></th>\n",
       "      <th></th>\n",
       "      <th></th>\n",
       "      <th></th>\n",
       "      <th></th>\n",
       "      <th></th>\n",
       "      <th></th>\n",
       "      <th></th>\n",
       "    </tr>\n",
       "  </thead>\n",
       "  <tbody>\n",
       "    <tr>\n",
       "      <th rowspan=\"5\" valign=\"top\">COMUNA 01</th>\n",
       "      <th>1001000001</th>\n",
       "      <td>7137</td>\n",
       "      <td>343</td>\n",
       "      <td>4.81</td>\n",
       "      <td>7115</td>\n",
       "      <td>414</td>\n",
       "      <td>5.82</td>\n",
       "      <td>71</td>\n",
       "      <td>1.01</td>\n",
       "    </tr>\n",
       "    <tr>\n",
       "      <th>1001000002</th>\n",
       "      <td>6643</td>\n",
       "      <td>335</td>\n",
       "      <td>5.04</td>\n",
       "      <td>6635</td>\n",
       "      <td>401</td>\n",
       "      <td>6.04</td>\n",
       "      <td>66</td>\n",
       "      <td>1.00</td>\n",
       "    </tr>\n",
       "    <tr>\n",
       "      <th>1001000003</th>\n",
       "      <td>3377</td>\n",
       "      <td>31</td>\n",
       "      <td>0.92</td>\n",
       "      <td>3377</td>\n",
       "      <td>47</td>\n",
       "      <td>1.39</td>\n",
       "      <td>16</td>\n",
       "      <td>0.47</td>\n",
       "    </tr>\n",
       "    <tr>\n",
       "      <th>1001000005</th>\n",
       "      <td>5402</td>\n",
       "      <td>176</td>\n",
       "      <td>3.26</td>\n",
       "      <td>5393</td>\n",
       "      <td>182</td>\n",
       "      <td>3.37</td>\n",
       "      <td>6</td>\n",
       "      <td>0.11</td>\n",
       "    </tr>\n",
       "    <tr>\n",
       "      <th>1001000006</th>\n",
       "      <td>11110</td>\n",
       "      <td>148</td>\n",
       "      <td>1.33</td>\n",
       "      <td>11100</td>\n",
       "      <td>187</td>\n",
       "      <td>1.68</td>\n",
       "      <td>39</td>\n",
       "      <td>0.35</td>\n",
       "    </tr>\n",
       "    <tr>\n",
       "      <th>...</th>\n",
       "      <th>...</th>\n",
       "      <td>...</td>\n",
       "      <td>...</td>\n",
       "      <td>...</td>\n",
       "      <td>...</td>\n",
       "      <td>...</td>\n",
       "      <td>...</td>\n",
       "      <td>...</td>\n",
       "      <td>...</td>\n",
       "    </tr>\n",
       "    <tr>\n",
       "      <th rowspan=\"5\" valign=\"top\">COMUNA 15</th>\n",
       "      <th>1015000163</th>\n",
       "      <td>9538</td>\n",
       "      <td>444</td>\n",
       "      <td>4.66</td>\n",
       "      <td>9521</td>\n",
       "      <td>581</td>\n",
       "      <td>6.10</td>\n",
       "      <td>137</td>\n",
       "      <td>1.44</td>\n",
       "    </tr>\n",
       "    <tr>\n",
       "      <th>1015000164</th>\n",
       "      <td>8654</td>\n",
       "      <td>455</td>\n",
       "      <td>5.26</td>\n",
       "      <td>8653</td>\n",
       "      <td>593</td>\n",
       "      <td>6.85</td>\n",
       "      <td>138</td>\n",
       "      <td>1.59</td>\n",
       "    </tr>\n",
       "    <tr>\n",
       "      <th>1015000165</th>\n",
       "      <td>15832</td>\n",
       "      <td>700</td>\n",
       "      <td>4.42</td>\n",
       "      <td>15825</td>\n",
       "      <td>915</td>\n",
       "      <td>5.78</td>\n",
       "      <td>215</td>\n",
       "      <td>1.36</td>\n",
       "    </tr>\n",
       "    <tr>\n",
       "      <th>1015000166</th>\n",
       "      <td>13176</td>\n",
       "      <td>588</td>\n",
       "      <td>4.46</td>\n",
       "      <td>13177</td>\n",
       "      <td>772</td>\n",
       "      <td>5.86</td>\n",
       "      <td>184</td>\n",
       "      <td>1.40</td>\n",
       "    </tr>\n",
       "    <tr>\n",
       "      <th>1015000167</th>\n",
       "      <td>10519</td>\n",
       "      <td>456</td>\n",
       "      <td>4.34</td>\n",
       "      <td>10606</td>\n",
       "      <td>563</td>\n",
       "      <td>5.31</td>\n",
       "      <td>107</td>\n",
       "      <td>0.97</td>\n",
       "    </tr>\n",
       "  </tbody>\n",
       "</table>\n",
       "<p>166 rows × 8 columns</p>\n",
       "</div>"
      ],
      "text/plain": [
       "                               VOTOS_TOTALES_PRES  VOTOS_AGRUPACION_PRES  \\\n",
       "NOMBRE_REGION CODIGO_CIRCUITO                                              \n",
       "COMUNA 01     1001000001                     7137                    343   \n",
       "              1001000002                     6643                    335   \n",
       "              1001000003                     3377                     31   \n",
       "              1001000005                     5402                    176   \n",
       "              1001000006                    11110                    148   \n",
       "...                                           ...                    ...   \n",
       "COMUNA 15     1015000163                     9538                    444   \n",
       "              1015000164                     8654                    455   \n",
       "              1015000165                    15832                    700   \n",
       "              1015000166                    13176                    588   \n",
       "              1015000167                    10519                    456   \n",
       "\n",
       "                               PORCENTAJE_AGRUPACION_PRES  VOTOS_TOTALES_DIP  \\\n",
       "NOMBRE_REGION CODIGO_CIRCUITO                                                  \n",
       "COMUNA 01     1001000001                             4.81               7115   \n",
       "              1001000002                             5.04               6635   \n",
       "              1001000003                             0.92               3377   \n",
       "              1001000005                             3.26               5393   \n",
       "              1001000006                             1.33              11100   \n",
       "...                                                   ...                ...   \n",
       "COMUNA 15     1015000163                             4.66               9521   \n",
       "              1015000164                             5.26               8653   \n",
       "              1015000165                             4.42              15825   \n",
       "              1015000166                             4.46              13177   \n",
       "              1015000167                             4.34              10606   \n",
       "\n",
       "                               VOTOS_AGRUPACION_DIP  \\\n",
       "NOMBRE_REGION CODIGO_CIRCUITO                         \n",
       "COMUNA 01     1001000001                        414   \n",
       "              1001000002                        401   \n",
       "              1001000003                         47   \n",
       "              1001000005                        182   \n",
       "              1001000006                        187   \n",
       "...                                             ...   \n",
       "COMUNA 15     1015000163                        581   \n",
       "              1015000164                        593   \n",
       "              1015000165                        915   \n",
       "              1015000166                        772   \n",
       "              1015000167                        563   \n",
       "\n",
       "                               PORCENTAJE_AGRUPACION_DIP  \\\n",
       "NOMBRE_REGION CODIGO_CIRCUITO                              \n",
       "COMUNA 01     1001000001                            5.82   \n",
       "              1001000002                            6.04   \n",
       "              1001000003                            1.39   \n",
       "              1001000005                            3.37   \n",
       "              1001000006                            1.68   \n",
       "...                                                  ...   \n",
       "COMUNA 15     1015000163                            6.10   \n",
       "              1015000164                            6.85   \n",
       "              1015000165                            5.78   \n",
       "              1015000166                            5.86   \n",
       "              1015000167                            5.31   \n",
       "\n",
       "                               DIFERENCIA_ABS_DIP_PRES  \\\n",
       "NOMBRE_REGION CODIGO_CIRCUITO                            \n",
       "COMUNA 01     1001000001                            71   \n",
       "              1001000002                            66   \n",
       "              1001000003                            16   \n",
       "              1001000005                             6   \n",
       "              1001000006                            39   \n",
       "...                                                ...   \n",
       "COMUNA 15     1015000163                           137   \n",
       "              1015000164                           138   \n",
       "              1015000165                           215   \n",
       "              1015000166                           184   \n",
       "              1015000167                           107   \n",
       "\n",
       "                               DIFERENCIA_REL_DIP_PRES  \n",
       "NOMBRE_REGION CODIGO_CIRCUITO                           \n",
       "COMUNA 01     1001000001                          1.01  \n",
       "              1001000002                          1.00  \n",
       "              1001000003                          0.47  \n",
       "              1001000005                          0.11  \n",
       "              1001000006                          0.35  \n",
       "...                                                ...  \n",
       "COMUNA 15     1015000163                          1.44  \n",
       "              1015000164                          1.59  \n",
       "              1015000165                          1.36  \n",
       "              1015000166                          1.40  \n",
       "              1015000167                          0.97  \n",
       "\n",
       "[166 rows x 8 columns]"
      ]
     },
     "execution_count": 28,
     "metadata": {},
     "output_type": "execute_result"
    }
   ],
   "source": [
    "diferencia_fit_circ = corte_boleta(porc_pres_circuito_fit, porc_dip_circ_fit)\n",
    "diferencia_fit_circ"
   ]
  },
  {
   "cell_type": "markdown",
   "id": "66579fd8",
   "metadata": {
    "slideshow": {
     "slide_type": "slide"
    }
   },
   "source": [
    "#### Diferencia entre el voto a diputados nacionales y el presidencial por comunas. Es decir, el porcentaje de electores por cada comuna que para Presidente votaron a otros frentes/partidos, y para Diputados Nacionales votaron al FIT"
   ]
  },
  {
   "cell_type": "code",
   "execution_count": 29,
   "id": "1e15dd3d",
   "metadata": {
    "slideshow": {
     "slide_type": "skip"
    }
   },
   "outputs": [],
   "source": [
    "diferencia_fit_comuna = corte_boleta(porc_pres_comuna_fit, porc_dip_comuna_fit)"
   ]
  },
  {
   "cell_type": "code",
   "execution_count": 30,
   "id": "222e4f10",
   "metadata": {
    "slideshow": {
     "slide_type": "-"
    }
   },
   "outputs": [
    {
     "data": {
      "text/html": [
       "<div>\n",
       "<style scoped>\n",
       "    .dataframe tbody tr th:only-of-type {\n",
       "        vertical-align: middle;\n",
       "    }\n",
       "\n",
       "    .dataframe tbody tr th {\n",
       "        vertical-align: top;\n",
       "    }\n",
       "\n",
       "    .dataframe thead th {\n",
       "        text-align: right;\n",
       "    }\n",
       "</style>\n",
       "<table border=\"1\" class=\"dataframe\">\n",
       "  <thead>\n",
       "    <tr style=\"text-align: right;\">\n",
       "      <th></th>\n",
       "      <th>VOTOS_TOTALES_PRES</th>\n",
       "      <th>VOTOS_AGRUPACION_PRES</th>\n",
       "      <th>PORCENTAJE_AGRUPACION_PRES</th>\n",
       "      <th>VOTOS_TOTALES_DIP</th>\n",
       "      <th>VOTOS_AGRUPACION_DIP</th>\n",
       "      <th>PORCENTAJE_AGRUPACION_DIP</th>\n",
       "      <th>DIFERENCIA_ABS_DIP_PRES</th>\n",
       "      <th>DIFERENCIA_REL_DIP_PRES</th>\n",
       "    </tr>\n",
       "    <tr>\n",
       "      <th>NOMBRE_REGION</th>\n",
       "      <th></th>\n",
       "      <th></th>\n",
       "      <th></th>\n",
       "      <th></th>\n",
       "      <th></th>\n",
       "      <th></th>\n",
       "      <th></th>\n",
       "      <th></th>\n",
       "    </tr>\n",
       "  </thead>\n",
       "  <tbody>\n",
       "    <tr>\n",
       "      <th>COMUNA 15</th>\n",
       "      <td>128547</td>\n",
       "      <td>6094</td>\n",
       "      <td>4.74</td>\n",
       "      <td>128567</td>\n",
       "      <td>7848</td>\n",
       "      <td>6.10</td>\n",
       "      <td>1754</td>\n",
       "      <td>1.36</td>\n",
       "    </tr>\n",
       "    <tr>\n",
       "      <th>COMUNA 05</th>\n",
       "      <td>121975</td>\n",
       "      <td>5740</td>\n",
       "      <td>4.71</td>\n",
       "      <td>121949</td>\n",
       "      <td>7065</td>\n",
       "      <td>5.79</td>\n",
       "      <td>1325</td>\n",
       "      <td>1.08</td>\n",
       "    </tr>\n",
       "    <tr>\n",
       "      <th>COMUNA 06</th>\n",
       "      <td>127594</td>\n",
       "      <td>5248</td>\n",
       "      <td>4.11</td>\n",
       "      <td>127597</td>\n",
       "      <td>6597</td>\n",
       "      <td>5.17</td>\n",
       "      <td>1349</td>\n",
       "      <td>1.06</td>\n",
       "    </tr>\n",
       "    <tr>\n",
       "      <th>COMUNA 13</th>\n",
       "      <td>168762</td>\n",
       "      <td>5457</td>\n",
       "      <td>3.23</td>\n",
       "      <td>168452</td>\n",
       "      <td>6982</td>\n",
       "      <td>4.14</td>\n",
       "      <td>1525</td>\n",
       "      <td>0.91</td>\n",
       "    </tr>\n",
       "    <tr>\n",
       "      <th>COMUNA 14</th>\n",
       "      <td>156784</td>\n",
       "      <td>4675</td>\n",
       "      <td>2.98</td>\n",
       "      <td>156863</td>\n",
       "      <td>6070</td>\n",
       "      <td>3.87</td>\n",
       "      <td>1395</td>\n",
       "      <td>0.89</td>\n",
       "    </tr>\n",
       "    <tr>\n",
       "      <th>COMUNA 12</th>\n",
       "      <td>152159</td>\n",
       "      <td>6180</td>\n",
       "      <td>4.06</td>\n",
       "      <td>151949</td>\n",
       "      <td>7440</td>\n",
       "      <td>4.90</td>\n",
       "      <td>1260</td>\n",
       "      <td>0.84</td>\n",
       "    </tr>\n",
       "    <tr>\n",
       "      <th>COMUNA 07</th>\n",
       "      <td>134121</td>\n",
       "      <td>5247</td>\n",
       "      <td>3.91</td>\n",
       "      <td>133888</td>\n",
       "      <td>6361</td>\n",
       "      <td>4.75</td>\n",
       "      <td>1114</td>\n",
       "      <td>0.84</td>\n",
       "    </tr>\n",
       "    <tr>\n",
       "      <th>COMUNA 03</th>\n",
       "      <td>117157</td>\n",
       "      <td>5124</td>\n",
       "      <td>4.37</td>\n",
       "      <td>116979</td>\n",
       "      <td>6062</td>\n",
       "      <td>5.18</td>\n",
       "      <td>938</td>\n",
       "      <td>0.81</td>\n",
       "    </tr>\n",
       "    <tr>\n",
       "      <th>COMUNA 11</th>\n",
       "      <td>137736</td>\n",
       "      <td>5461</td>\n",
       "      <td>3.96</td>\n",
       "      <td>137473</td>\n",
       "      <td>6413</td>\n",
       "      <td>4.66</td>\n",
       "      <td>952</td>\n",
       "      <td>0.70</td>\n",
       "    </tr>\n",
       "    <tr>\n",
       "      <th>COMUNA 01</th>\n",
       "      <td>122034</td>\n",
       "      <td>4368</td>\n",
       "      <td>3.58</td>\n",
       "      <td>121775</td>\n",
       "      <td>5149</td>\n",
       "      <td>4.23</td>\n",
       "      <td>781</td>\n",
       "      <td>0.65</td>\n",
       "    </tr>\n",
       "    <tr>\n",
       "      <th>COMUNA 02</th>\n",
       "      <td>104294</td>\n",
       "      <td>2620</td>\n",
       "      <td>2.51</td>\n",
       "      <td>103939</td>\n",
       "      <td>3261</td>\n",
       "      <td>3.14</td>\n",
       "      <td>641</td>\n",
       "      <td>0.63</td>\n",
       "    </tr>\n",
       "    <tr>\n",
       "      <th>COMUNA 10</th>\n",
       "      <td>118733</td>\n",
       "      <td>5148</td>\n",
       "      <td>4.34</td>\n",
       "      <td>118715</td>\n",
       "      <td>5900</td>\n",
       "      <td>4.97</td>\n",
       "      <td>752</td>\n",
       "      <td>0.63</td>\n",
       "    </tr>\n",
       "    <tr>\n",
       "      <th>COMUNA 04</th>\n",
       "      <td>136899</td>\n",
       "      <td>5798</td>\n",
       "      <td>4.24</td>\n",
       "      <td>136912</td>\n",
       "      <td>6427</td>\n",
       "      <td>4.69</td>\n",
       "      <td>629</td>\n",
       "      <td>0.45</td>\n",
       "    </tr>\n",
       "    <tr>\n",
       "      <th>COMUNA 09</th>\n",
       "      <td>116632</td>\n",
       "      <td>4568</td>\n",
       "      <td>3.92</td>\n",
       "      <td>116615</td>\n",
       "      <td>5056</td>\n",
       "      <td>4.34</td>\n",
       "      <td>488</td>\n",
       "      <td>0.42</td>\n",
       "    </tr>\n",
       "    <tr>\n",
       "      <th>COMUNA 08</th>\n",
       "      <td>107120</td>\n",
       "      <td>4018</td>\n",
       "      <td>3.75</td>\n",
       "      <td>106347</td>\n",
       "      <td>4164</td>\n",
       "      <td>3.92</td>\n",
       "      <td>146</td>\n",
       "      <td>0.17</td>\n",
       "    </tr>\n",
       "  </tbody>\n",
       "</table>\n",
       "</div>"
      ],
      "text/plain": [
       "               VOTOS_TOTALES_PRES  VOTOS_AGRUPACION_PRES  \\\n",
       "NOMBRE_REGION                                              \n",
       "COMUNA 15                  128547                   6094   \n",
       "COMUNA 05                  121975                   5740   \n",
       "COMUNA 06                  127594                   5248   \n",
       "COMUNA 13                  168762                   5457   \n",
       "COMUNA 14                  156784                   4675   \n",
       "COMUNA 12                  152159                   6180   \n",
       "COMUNA 07                  134121                   5247   \n",
       "COMUNA 03                  117157                   5124   \n",
       "COMUNA 11                  137736                   5461   \n",
       "COMUNA 01                  122034                   4368   \n",
       "COMUNA 02                  104294                   2620   \n",
       "COMUNA 10                  118733                   5148   \n",
       "COMUNA 04                  136899                   5798   \n",
       "COMUNA 09                  116632                   4568   \n",
       "COMUNA 08                  107120                   4018   \n",
       "\n",
       "               PORCENTAJE_AGRUPACION_PRES  VOTOS_TOTALES_DIP  \\\n",
       "NOMBRE_REGION                                                  \n",
       "COMUNA 15                            4.74             128567   \n",
       "COMUNA 05                            4.71             121949   \n",
       "COMUNA 06                            4.11             127597   \n",
       "COMUNA 13                            3.23             168452   \n",
       "COMUNA 14                            2.98             156863   \n",
       "COMUNA 12                            4.06             151949   \n",
       "COMUNA 07                            3.91             133888   \n",
       "COMUNA 03                            4.37             116979   \n",
       "COMUNA 11                            3.96             137473   \n",
       "COMUNA 01                            3.58             121775   \n",
       "COMUNA 02                            2.51             103939   \n",
       "COMUNA 10                            4.34             118715   \n",
       "COMUNA 04                            4.24             136912   \n",
       "COMUNA 09                            3.92             116615   \n",
       "COMUNA 08                            3.75             106347   \n",
       "\n",
       "               VOTOS_AGRUPACION_DIP  PORCENTAJE_AGRUPACION_DIP  \\\n",
       "NOMBRE_REGION                                                    \n",
       "COMUNA 15                      7848                       6.10   \n",
       "COMUNA 05                      7065                       5.79   \n",
       "COMUNA 06                      6597                       5.17   \n",
       "COMUNA 13                      6982                       4.14   \n",
       "COMUNA 14                      6070                       3.87   \n",
       "COMUNA 12                      7440                       4.90   \n",
       "COMUNA 07                      6361                       4.75   \n",
       "COMUNA 03                      6062                       5.18   \n",
       "COMUNA 11                      6413                       4.66   \n",
       "COMUNA 01                      5149                       4.23   \n",
       "COMUNA 02                      3261                       3.14   \n",
       "COMUNA 10                      5900                       4.97   \n",
       "COMUNA 04                      6427                       4.69   \n",
       "COMUNA 09                      5056                       4.34   \n",
       "COMUNA 08                      4164                       3.92   \n",
       "\n",
       "               DIFERENCIA_ABS_DIP_PRES  DIFERENCIA_REL_DIP_PRES  \n",
       "NOMBRE_REGION                                                    \n",
       "COMUNA 15                         1754                     1.36  \n",
       "COMUNA 05                         1325                     1.08  \n",
       "COMUNA 06                         1349                     1.06  \n",
       "COMUNA 13                         1525                     0.91  \n",
       "COMUNA 14                         1395                     0.89  \n",
       "COMUNA 12                         1260                     0.84  \n",
       "COMUNA 07                         1114                     0.84  \n",
       "COMUNA 03                          938                     0.81  \n",
       "COMUNA 11                          952                     0.70  \n",
       "COMUNA 01                          781                     0.65  \n",
       "COMUNA 02                          641                     0.63  \n",
       "COMUNA 10                          752                     0.63  \n",
       "COMUNA 04                          629                     0.45  \n",
       "COMUNA 09                          488                     0.42  \n",
       "COMUNA 08                          146                     0.17  "
      ]
     },
     "execution_count": 30,
     "metadata": {},
     "output_type": "execute_result"
    }
   ],
   "source": [
    "\n",
    "diferencia_fit_comuna.sort_values(by=[\"DIFERENCIA_REL_DIP_PRES\"], ascending = False)\n"
   ]
  },
  {
   "cell_type": "markdown",
   "id": "9f6a9e38",
   "metadata": {},
   "source": [
    "### Comparación entre el voto a Diputados y el voto a Presidente"
   ]
  },
  {
   "cell_type": "code",
   "execution_count": 31,
   "id": "e5044d82",
   "metadata": {
    "slideshow": {
     "slide_type": "slide"
    }
   },
   "outputs": [
    {
     "data": {
      "text/plain": [
       "Text(0.5, 1.0, 'Porcentaje de votos al FIT por comuna')"
      ]
     },
     "execution_count": 31,
     "metadata": {},
     "output_type": "execute_result"
    },
    {
     "data": {
      "image/png": "[encoded data removed]",
      "text/plain": [
       "<Figure size 1440x720 with 1 Axes>"
      ]
     },
     "metadata": {},
     "output_type": "display_data"
    }
   ],
   "source": [
    "gr3 = diferencia_fit_comuna.reset_index()\n",
    "fig, ax = plt.subplots(figsize=fig_dims)\n",
    "sns.barplot(y = 'PORCENTAJE_AGRUPACION_DIP', x = 'NOMBRE_REGION', data= gr3.sort_values(by='PORCENTAJE_AGRUPACION_DIP', ascending= False),ax=ax, hue= 'PORCENTAJE_AGRUPACION_PRES', palette= 'Reds_d', dodge= False)\n",
    "plt.xticks(rotation=90)\n",
    "ytick = np.arange(0,7,0.25)\n",
    "plt.yticks(ytick)\n",
    "plt.ylabel('Porcentajes a voto diputados')\n",
    "plt.xlabel('Comunas')\n",
    "plt.legend(title= 'Porcentaje de votos para Presidente')\n",
    "plt.title('Porcentaje de votos al FIT por comuna')\n",
    "\n"
   ]
  },
  {
   "cell_type": "markdown",
   "id": "2eafb4a7",
   "metadata": {},
   "source": [
    "Se puede apreciar la tendencia a que las comunas con buenos resultados para Diputados también lo tuvieron para Presidente, pero con algunas exceocuibes cini ka cinyba 04. Veamos con más profundidad esas diferencias"
   ]
  },
  {
   "cell_type": "markdown",
   "id": "e3771eed",
   "metadata": {},
   "source": [
    "### Corte de boleta: Diferencia entre el voto de Diputados y el de Prresidente"
   ]
  },
  {
   "cell_type": "code",
   "execution_count": 32,
   "id": "6e10795e",
   "metadata": {},
   "outputs": [
    {
     "data": {
      "text/plain": [
       "Text(0.5, 1.0, 'Diferencia entre voto DIputado y Presidente por comuna por comuna')"
      ]
     },
     "execution_count": 32,
     "metadata": {},
     "output_type": "execute_result"
    },
    {
     "data": {
      "image/png": "[encoded data removed]",
      "text/plain": [
       "<Figure size 1440x720 with 1 Axes>"
      ]
     },
     "metadata": {},
     "output_type": "display_data"
    }
   ],
   "source": [
    "gr3 = diferencia_fit_comuna.reset_index()\n",
    "fig, ax = plt.subplots(figsize=fig_dims)\n",
    "sns.barplot(y = 'DIFERENCIA_REL_DIP_PRES', x = 'NOMBRE_REGION', data= gr3.sort_values(by='DIFERENCIA_REL_DIP_PRES', ascending= False),linewidth=2, edgecolor=\".2\",ax=ax, hue= 'DIFERENCIA_ABS_DIP_PRES', palette= 'BuGn', dodge= False)\n",
    "plt.xticks(rotation=90)\n",
    "ytick = np.arange(0,1.5,0.10)\n",
    "plt.yticks(ytick)\n",
    "plt.ylabel('Diferencia relativa entre Diputrado y Presidente')\n",
    "plt.xlabel('Comunas')\n",
    "plt.legend(title= 'Diferencia absoluta entre Diputrado y Presidente')\n",
    "plt.title('Diferencia entre voto DIputado y Presidente por comuna por comuna')\n",
    "\n"
   ]
  },
  {
   "cell_type": "markdown",
   "id": "ccfa00cc",
   "metadata": {
    "slideshow": {
     "slide_type": "slide"
    }
   },
   "source": [
    "### Análisis 2.1:\n",
    "\n",
    " En primer lugar podemos mencionar que, en lo que respecta a Diputados Nacionales, las comunas con mayor votos absoluto son la 15,12, 05,13 y 6. Mientras que las que tienen mayor porcentaje de votos son las 15, 05, 03, 10 y 06. Por lo que todas estas son las que deberían priorizarse\n",
    "\n",
    " \n",
    "\n"
   ]
  },
  {
   "cell_type": "markdown",
   "id": "cdd4f452",
   "metadata": {
    "slideshow": {
     "slide_type": "slide"
    }
   },
   "source": [
    " Se puede apreciar, además, que **en todas las comunas la diferencia entre presidente y Diputados Nacionales, para el FIT, es positiva**. Es decir, en todas las comunas hay más voto para Diputados que para Presidente\n",
    "\n",
    "Por lo tanto, creemos que una estrategia que apunte a conseguir votos para esta categoría es más viable que una estrategia que apunte a conseguir votos para Presidente.\n",
    "\n",
    "Además, y visto lo anterior, parecieran tener mayor relevancia las comunas 5, 6 y 15, dado que tienen un alto porcentaje de corte de boleta. Y las comunas 13 y 14, si bien no tienen los más altos porcentajes, sí estan entre las cantidades más añtas de corte de boleta. Por lo que todos estas comunas deben ser priorizadas para militar el voto a diputados"
   ]
  },
  {
   "cell_type": "markdown",
   "id": "9659da01",
   "metadata": {
    "slideshow": {
     "slide_type": "slide"
    }
   },
   "source": [
    "### 2.2:\n",
    " Se puede comparar la misma diferencia en el resto de las agrupaciones.\n",
    "\n",
    "\n",
    "Las agrupaciones cuya diferencia de negativa, tienen más votos para Presidente que para Diputados Nacionales\n",
    "\n",
    "\n",
    "Por lo tanto, es de esas agrupaciones de donde se estan sacando votos en cada comuna"
   ]
  },
  {
   "cell_type": "code",
   "execution_count": 33,
   "id": "a29b0d77",
   "metadata": {
    "slideshow": {
     "slide_type": "skip"
    }
   },
   "outputs": [
    {
     "name": "stderr",
     "output_type": "stream",
     "text": [
      "C:\\Users\\Usuario\\AppData\\Local\\Temp/ipykernel_2708/3274835435.py:6: FutureWarning: Indexing with multiple keys (implicitly converted to a tuple of keys) will be deprecated, use a list instead.\n",
      "  porcentaje_comuna = (porcentaje_circuito.groupby(\"NOMBRE_REGION\")[\"VOTOS_TOTALES\", \"VOTOS_AGRUPACION\"].sum())\n"
     ]
    }
   ],
   "source": [
    "# Resultados del FdT en cada mesa solo para Presidente\n",
    "resultCABA_pres_fdt = resultCABA[(resultCABA[\"NOMBRE_CATEGORIA\"] == \"Presidente y Vicepresidente de la República\") & (resultCABA[\"NOMBRE_AGRUPACION\"] == \"FRENTE DE TODOS\")]\n",
    "\n",
    "# Porcentaje de Diputados Nacionales del FdT por circuito\n",
    "porc_pres_circ_fdt = porcentaje_circuito(resultCABA_pres_total, resultCABA_pres_fdt)\n",
    "\n",
    "# Porcentaje de Diputados Nacionales del FdT por comuna\n",
    "porc_pres_comuna_fdt = porcentaje_comuna(porc_pres_circ_fdt)\n",
    "\n",
    "# Resultados del FdT en cada mesa solo para Presidente\n",
    "resultCABA_dip_fdt = resultCABA[(resultCABA[\"NOMBRE_CATEGORIA\"] == \"Diputados Nacionales Ciudad Autónoma de Buenos Aires\") & (resultCABA[\"NOMBRE_AGRUPACION\"] == \"FRENTE DE TODOS\")]\n",
    "\n",
    "\n",
    "# Porcentaje de Diputados Nacionales del FdT por circuito\n",
    "porc_dip_circ_fdt = porcentaje_circuito(resultCABA_dip_total, resultCABA_dip_fdt)\n",
    "\n",
    "# Porcentaje de Diputados Nacionales del FdT por comuna\n",
    "porc_dip_comuna_fdt = porcentaje_comuna(porc_dip_circ_fdt)\n",
    "\n",
    "# Diferencia entre el voto Presidente y Diputado en FdT por COMUNA\n",
    "diferencia_fdt_comuna = corte_boleta(porc_pres_comuna_fdt, porc_dip_comuna_fdt)\n",
    "\n",
    "# Diferencia entre el voto Presidente y Diputado en FdT por CIRCUITO\n",
    "diferencia_fdt_circ = corte_boleta(porc_pres_circ_fdt, porc_dip_circ_fdt)"
   ]
  },
  {
   "cell_type": "code",
   "execution_count": 34,
   "id": "e217de12",
   "metadata": {
    "slideshow": {
     "slide_type": "skip"
    }
   },
   "outputs": [
    {
     "name": "stderr",
     "output_type": "stream",
     "text": [
      "C:\\Users\\Usuario\\AppData\\Local\\Temp/ipykernel_2708/3274835435.py:6: FutureWarning: Indexing with multiple keys (implicitly converted to a tuple of keys) will be deprecated, use a list instead.\n",
      "  porcentaje_comuna = (porcentaje_circuito.groupby(\"NOMBRE_REGION\")[\"VOTOS_TOTALES\", \"VOTOS_AGRUPACION\"].sum())\n"
     ]
    }
   ],
   "source": [
    "# Resultados del JxC en cada mesa solo para Presidente\n",
    "resultCABA_pres_jxc = resultCABA[(resultCABA[\"NOMBRE_CATEGORIA\"] == \"Presidente y Vicepresidente de la República\") & (resultCABA[\"NOMBRE_AGRUPACION\"] == \"JUNTOS POR EL CAMBIO\")]\n",
    "\n",
    "# Porcentaje de Diputados Nacionales del JxC por circuito\n",
    "porc_pres_circ_jxc = porcentaje_circuito(resultCABA_pres_total, resultCABA_pres_jxc)\n",
    "\n",
    "# Porcentaje de Diputados Nacionales del JxC por comuna\n",
    "porc_pres_comuna_jxc = porcentaje_comuna(porc_pres_circ_jxc)\n",
    "\n",
    "# Resultados del JxC en cada mesa solo para Presidente\n",
    "resultCABA_dip_jxc = resultCABA[(resultCABA[\"NOMBRE_CATEGORIA\"] == \"Diputados Nacionales Ciudad Autónoma de Buenos Aires\") & (resultCABA[\"NOMBRE_AGRUPACION\"] == \"JUNTOS POR EL CAMBIO\")]\n",
    "\n",
    "# Porcentaje de Diputados Nacionales del JxC por circuito\n",
    "porc_dip_circ_jxc = porcentaje_circuito(resultCABA_dip_total, resultCABA_dip_jxc)\n",
    "\n",
    "# Porcentaje de Diputados Nacionales del JxC por comuna\n",
    "porc_dip_comuna_jxc = porcentaje_comuna(porc_dip_circ_jxc)\n",
    "\n",
    "# Diferencia entre el voto Presidente y Diputado en JxC por COMUNA\n",
    "diferencia_jxc_comuna = corte_boleta(porc_pres_comuna_jxc, porc_dip_comuna_jxc)\n",
    "\n",
    "# Diferencia entre el voto Presidente y Diputado en JxC por CIRCUITO\n",
    "diferencia_jxc_circ = corte_boleta(porc_pres_circ_jxc, porc_dip_circ_jxc)\n"
   ]
  },
  {
   "cell_type": "code",
   "execution_count": 35,
   "id": "eedfeafb",
   "metadata": {
    "slideshow": {
     "slide_type": "skip"
    }
   },
   "outputs": [
    {
     "name": "stderr",
     "output_type": "stream",
     "text": [
      "C:\\Users\\Usuario\\AppData\\Local\\Temp/ipykernel_2708/3274835435.py:6: FutureWarning: Indexing with multiple keys (implicitly converted to a tuple of keys) will be deprecated, use a list instead.\n",
      "  porcentaje_comuna = (porcentaje_circuito.groupby(\"NOMBRE_REGION\")[\"VOTOS_TOTALES\", \"VOTOS_AGRUPACION\"].sum())\n"
     ]
    }
   ],
   "source": [
    "# Resultados del cf en cada mesa solo para Presidente\n",
    "resultCABA_pres_cf = resultCABA[(resultCABA[\"NOMBRE_CATEGORIA\"] == \"Presidente y Vicepresidente de la República\") & (resultCABA[\"NOMBRE_AGRUPACION\"] == \"CONSENSO FEDERAL\")]\n",
    "\n",
    "# Porcentaje de Diputados Nacionales del cf por circuito\n",
    "porc_pres_circ_cf = porcentaje_circuito(resultCABA_pres_total, resultCABA_pres_cf)\n",
    "\n",
    "# Porcentaje de Diputados Nacionales del cf por comuna\n",
    "porc_pres_comuna_cf = porcentaje_comuna(porc_pres_circ_cf)\n",
    "\n",
    "# Resultados del cf en cada mesa solo para Presidente\n",
    "resultCABA_dip_cf = resultCABA[(resultCABA[\"NOMBRE_CATEGORIA\"] == \"Diputados Nacionales Ciudad Autónoma de Buenos Aires\") & (resultCABA[\"NOMBRE_AGRUPACION\"] == \"CONSENSO FEDERAL\")]\n",
    "\n",
    "# Porcentaje de Diputados Nacionales del cf por circuito\n",
    "porc_dip_circ_cf = porcentaje_circuito(resultCABA_dip_total, resultCABA_dip_cf)\n",
    "porc_dip_circ_cf\n",
    "\n",
    "# Porcentaje de Diputados Nacionales del cf por comuna\n",
    "porc_dip_comuna_cf = porcentaje_comuna(porc_dip_circ_cf)\n",
    "\n",
    "# Diferencia entre el voto Presidente y Diputado en cf por COMUNA\n",
    "diferencia_cf_comuna = corte_boleta(porc_pres_comuna_cf, porc_dip_comuna_cf)\n",
    "\n",
    "# Diferencia entre el voto Presidente y Diputado en cf por CIRCUITO\n",
    "diferencia_cf_circ = corte_boleta(porc_pres_circ_cf, porc_dip_circ_cf)\n"
   ]
  },
  {
   "cell_type": "code",
   "execution_count": 36,
   "id": "36710d9f",
   "metadata": {
    "slideshow": {
     "slide_type": "skip"
    }
   },
   "outputs": [
    {
     "name": "stderr",
     "output_type": "stream",
     "text": [
      "C:\\Users\\Usuario\\AppData\\Local\\Temp/ipykernel_2708/3274835435.py:6: FutureWarning: Indexing with multiple keys (implicitly converted to a tuple of keys) will be deprecated, use a list instead.\n",
      "  porcentaje_comuna = (porcentaje_circuito.groupby(\"NOMBRE_REGION\")[\"VOTOS_TOTALES\", \"VOTOS_AGRUPACION\"].sum())\n"
     ]
    }
   ],
   "source": [
    "# Resultados del uld en cada mesa solo para Presidente\n",
    "resultCABA_pres_uld = resultCABA[(resultCABA[\"NOMBRE_CATEGORIA\"] == \"Presidente y Vicepresidente de la República\") & (resultCABA[\"NOMBRE_AGRUPACION\"] == \"UNITE POR LA LIBERTAD Y LA DIGNIDAD\")]\n",
    "\n",
    "# Porcentaje de Diputados Nacionales del uld por circuito\n",
    "porc_pres_circ_uld = porcentaje_circuito(resultCABA_pres_total, resultCABA_pres_uld)\n",
    "\n",
    "# Porcentaje de Diputados Nacionales del uld por comuna\n",
    "porc_pres_comuna_uld = porcentaje_comuna(porc_pres_circ_uld)\n",
    "\n",
    "# Resultados del uld en cada mesa solo para Presidente\n",
    "resultCABA_dip_uld = resultCABA[(resultCABA[\"NOMBRE_CATEGORIA\"] == \"Diputados Nacionales Ciudad Autónoma de Buenos Aires\") & (resultCABA[\"NOMBRE_AGRUPACION\"] == \"UNITE POR LA LIBERTAD Y LA DIGNIDAD\")]\n",
    "\n",
    "# Porcentaje de Diputados Nacionales del uld por circuito\n",
    "porc_dip_circ_uld = porcentaje_circuito(resultCABA_dip_total, resultCABA_dip_uld)\n",
    "\n",
    "# Porcentaje de Diputados Nacionales del uld por comuna\n",
    "porc_dip_comuna_uld = porcentaje_comuna(porc_dip_circ_uld)\n",
    "\n",
    "# Diferencia entre el voto Presidente y Diputado en uld por COMUNA\n",
    "diferencia_uld_comuna = corte_boleta(porc_pres_comuna_uld, porc_dip_comuna_uld)\n",
    "\n",
    "# Diferencia entre el voto Presidente y Diputado en uld por CIRCUITO\n",
    "diferencia_uld_circ = corte_boleta(porc_pres_circ_uld, porc_dip_circ_uld)\n"
   ]
  },
  {
   "cell_type": "code",
   "execution_count": 37,
   "id": "e3b78913",
   "metadata": {
    "slideshow": {
     "slide_type": "skip"
    }
   },
   "outputs": [
    {
     "name": "stderr",
     "output_type": "stream",
     "text": [
      "C:\\Users\\Usuario\\AppData\\Local\\Temp/ipykernel_2708/3274835435.py:6: FutureWarning: Indexing with multiple keys (implicitly converted to a tuple of keys) will be deprecated, use a list instead.\n",
      "  porcentaje_comuna = (porcentaje_circuito.groupby(\"NOMBRE_REGION\")[\"VOTOS_TOTALES\", \"VOTOS_AGRUPACION\"].sum())\n"
     ]
    }
   ],
   "source": [
    "#%%\n",
    "# Resultados del blanco en cada mesa solo para Presidente\n",
    "resultCABA_pres_blanco = resultCABA[(resultCABA[\"NOMBRE_CATEGORIA\"] == \"Presidente y Vicepresidente de la República\") & (resultCABA[\"NOMBRE_AGRUPACION\"] == \"BLANCO\")]\n",
    "\n",
    "# Porcentaje de Diputados Nacionales del blanco por circuito\n",
    "porc_pres_circ_blanco = porcentaje_circuito(resultCABA_pres_total, resultCABA_pres_blanco)\n",
    "\n",
    "# Porcentaje de Diputados Nacionales del blanco por comuna\n",
    "porc_pres_comuna_blanco = porcentaje_comuna(porc_pres_circ_blanco)\n",
    "\n",
    "# Resultados del blanco en cada mesa solo para Presidente\n",
    "resultCABA_dip_blanco = resultCABA[(resultCABA[\"NOMBRE_CATEGORIA\"] == \"Diputados Nacionales Ciudad Autónoma de Buenos Aires\") & (resultCABA[\"NOMBRE_AGRUPACION\"] == \"BLANCO\")]\n",
    "\n",
    "# Porcentaje de Diputados Nacionales del blanco por circuito\n",
    "porc_dip_circ_blanco = porcentaje_circuito(resultCABA_dip_total, resultCABA_dip_blanco)\n",
    "\n",
    "# Porcentaje de Diputados Nacionales del blanco por comuna\n",
    "porc_dip_comuna_blanco = porcentaje_comuna(porc_dip_circ_blanco)\n",
    "\n",
    "# Diferencia entre el voto Presidente y Diputado en blanco por COMUNA\n",
    "diferencia_blanco_comuna = corte_boleta(porc_pres_comuna_blanco, porc_dip_comuna_blanco)\n",
    "\n",
    "# Diferencia entre el voto Presidente y Diputado en blanco por CIRCUITO\n",
    "diferencia_blanco_circ = corte_boleta(porc_pres_circ_blanco, porc_dip_circ_blanco)\n"
   ]
  },
  {
   "cell_type": "code",
   "execution_count": 38,
   "id": "2c515815",
   "metadata": {
    "slideshow": {
     "slide_type": "skip"
    }
   },
   "outputs": [],
   "source": [
    "diferencia_blanco_comuna = diferencia_blanco_comuna.rename(columns={\"DIFERENCIA_REL_DIP_PRES\": \"DIFERENCIA_REL_BLANCO\", \"DIFERENCIA_ABS_DIP_PRES\": \"DIFERENCIA_ABS_BLANCO\"})\n",
    "diferencia_blanco_circ = diferencia_blanco_circ.rename(columns={\"DIFERENCIA_REL_DIP_PRES\": \"DIFERENCIA_REL_BLANCO\", \"DIFERENCIA_ABS_DIP_PRES\": \"DIFERENCIA_ABS_BLANCO\"})\n",
    "sub_diferencia_blanco_circ = diferencia_blanco_circ[[\"DIFERENCIA_REL_BLANCO\",\"DIFERENCIA_ABS_BLANCO\"]]\n",
    "sub_diferencia_blanco_comuna = diferencia_blanco_comuna[[\"DIFERENCIA_REL_BLANCO\",\"DIFERENCIA_ABS_BLANCO\"]]\n",
    "\n",
    "diferencia_uld_comuna = diferencia_uld_comuna.rename(columns={\"DIFERENCIA_REL_DIP_PRES\": \"DIFERENCIA_REL_ULD\", \"DIFERENCIA_ABS_DIP_PRES\": \"DIFERENCIA_ABS_ULD\"})\n",
    "diferencia_uld_circ = diferencia_uld_circ.rename(columns={\"DIFERENCIA_REL_DIP_PRES\": \"DIFERENCIA_REL_ULD\", \"DIFERENCIA_ABS_DIP_PRES\": \"DIFERENCIA_ABS_ULD\"})\n",
    "sub_diferencia_uld_circ = diferencia_uld_circ[[\"DIFERENCIA_REL_ULD\",\"DIFERENCIA_ABS_ULD\"]]\n",
    "sub_diferencia_uld_comuna = diferencia_uld_comuna[[\"DIFERENCIA_REL_ULD\",\"DIFERENCIA_ABS_ULD\"]]\n",
    "\n",
    "diferencia_fit_comuna = diferencia_fit_comuna.rename(columns={\"DIFERENCIA_REL_DIP_PRES\": \"DIFERENCIA_REL_FIT\", \"DIFERENCIA_ABS_DIP_PRES\": \"DIFERENCIA_ABS_FIT\"})\n",
    "diferencia_fit_circ = diferencia_fit_circ.rename(columns={\"DIFERENCIA_REL_DIP_PRES\": \"DIFERENCIA_REL_FIT\", \"DIFERENCIA_ABS_DIP_PRES\": \"DIFERENCIA_ABS_FIT\"})\n",
    "sub_diferencia_fit_circ = diferencia_fit_circ[[\"DIFERENCIA_REL_FIT\",\"DIFERENCIA_ABS_FIT\"]]\n",
    "sub_diferencia_fit_comuna = diferencia_fit_comuna[[\"DIFERENCIA_REL_FIT\",\"DIFERENCIA_ABS_FIT\"]]\n",
    "\n",
    "diferencia_cf_comuna = diferencia_cf_comuna.rename(columns={\"DIFERENCIA_REL_DIP_PRES\": \"DIFERENCIA_REL_CF\", \"DIFERENCIA_ABS_DIP_PRES\": \"DIFERENCIA_ABS_CF\"})\n",
    "diferencia_cf_circ = diferencia_cf_circ.rename(columns={\"DIFERENCIA_REL_DIP_PRES\": \"DIFERENCIA_REL_CF\", \"DIFERENCIA_ABS_DIP_PRES\": \"DIFERENCIA_ABS_CF\"})\n",
    "sub_diferencia_cf_circ = diferencia_cf_circ[[\"DIFERENCIA_REL_CF\", \"DIFERENCIA_ABS_CF\"]]\n",
    "sub_diferencia_cf_comuna = diferencia_cf_comuna[[\"DIFERENCIA_REL_CF\", \"DIFERENCIA_ABS_CF\"]]\n",
    "\n",
    "diferencia_fdt_comuna = diferencia_fdt_comuna.rename(columns={\"DIFERENCIA_REL_DIP_PRES\": \"DIFERENCIA_REL_FDT\", \"DIFERENCIA_ABS_DIP_PRES\": \"DIFERENCIA_ABS_FDT\"})\n",
    "diferencia_fdt_circ = diferencia_fdt_circ.rename(columns={\"DIFERENCIA_REL_DIP_PRES\": \"DIFERENCIA_REL_FDT\", \"DIFERENCIA_ABS_DIP_PRES\": \"DIFERENCIA_ABS_FDT\"})\n",
    "sub_diferencia_fdt_circ = diferencia_fdt_circ[[\"DIFERENCIA_REL_FDT\", \"DIFERENCIA_ABS_FDT\"]]\n",
    "sub_diferencia_fdt_comuna = diferencia_fdt_comuna[[\"DIFERENCIA_REL_FDT\", \"DIFERENCIA_ABS_FDT\"]]\n",
    "\n",
    "diferencia_jxc_comuna = diferencia_jxc_comuna.rename(columns={\"DIFERENCIA_REL_DIP_PRES\": \"DIFERENCIA_REL_JXC\", \"DIFERENCIA_ABS_DIP_PRES\": \"DIFERENCIA_ABS_JXC\"})\n",
    "diferencia_jxc_circ = diferencia_jxc_circ.rename(columns={\"DIFERENCIA_REL_DIP_PRES\": \"DIFERENCIA_REL_JXC\", \"DIFERENCIA_ABS_DIP_PRES\": \"DIFERENCIA_ABS_JXC\"})\n",
    "sub_diferencia_jxc_circ = diferencia_jxc_circ[[\"DIFERENCIA_REL_JXC\", \"DIFERENCIA_ABS_JXC\"]]\n",
    "sub_diferencia_jxc_comuna = diferencia_jxc_comuna[[\"DIFERENCIA_REL_JXC\", \"DIFERENCIA_ABS_JXC\"]]"
   ]
  },
  {
   "cell_type": "markdown",
   "id": "de4c5fed",
   "metadata": {
    "slideshow": {
     "slide_type": "slide"
    }
   },
   "source": [
    "#### Comparación de las diferencias por Circuito"
   ]
  },
  {
   "cell_type": "code",
   "execution_count": 39,
   "id": "cbb0cad2",
   "metadata": {
    "slideshow": {
     "slide_type": "skip"
    }
   },
   "outputs": [],
   "source": [
    "comparacion_diferencia_circuito = pd.concat([sub_diferencia_jxc_circ, sub_diferencia_fdt_circ, \n",
    "                                            sub_diferencia_cf_circ, sub_diferencia_fit_circ, sub_diferencia_uld_circ, sub_diferencia_blanco_circ],\n",
    "                                            axis=1)"
   ]
  },
  {
   "cell_type": "code",
   "execution_count": 40,
   "id": "fcaec4e6",
   "metadata": {
    "slideshow": {
     "slide_type": "-"
    }
   },
   "outputs": [
    {
     "data": {
      "text/html": [
       "<div>\n",
       "<style scoped>\n",
       "    .dataframe tbody tr th:only-of-type {\n",
       "        vertical-align: middle;\n",
       "    }\n",
       "\n",
       "    .dataframe tbody tr th {\n",
       "        vertical-align: top;\n",
       "    }\n",
       "\n",
       "    .dataframe thead th {\n",
       "        text-align: right;\n",
       "    }\n",
       "</style>\n",
       "<table border=\"1\" class=\"dataframe\">\n",
       "  <thead>\n",
       "    <tr style=\"text-align: right;\">\n",
       "      <th></th>\n",
       "      <th></th>\n",
       "      <th>DIFERENCIA_REL_JXC</th>\n",
       "      <th>DIFERENCIA_ABS_JXC</th>\n",
       "      <th>DIFERENCIA_REL_FDT</th>\n",
       "      <th>DIFERENCIA_ABS_FDT</th>\n",
       "      <th>DIFERENCIA_REL_CF</th>\n",
       "      <th>DIFERENCIA_ABS_CF</th>\n",
       "      <th>DIFERENCIA_REL_FIT</th>\n",
       "      <th>DIFERENCIA_ABS_FIT</th>\n",
       "      <th>DIFERENCIA_REL_ULD</th>\n",
       "      <th>DIFERENCIA_ABS_ULD</th>\n",
       "      <th>DIFERENCIA_REL_BLANCO</th>\n",
       "      <th>DIFERENCIA_ABS_BLANCO</th>\n",
       "    </tr>\n",
       "    <tr>\n",
       "      <th>NOMBRE_REGION</th>\n",
       "      <th>CODIGO_CIRCUITO</th>\n",
       "      <th></th>\n",
       "      <th></th>\n",
       "      <th></th>\n",
       "      <th></th>\n",
       "      <th></th>\n",
       "      <th></th>\n",
       "      <th></th>\n",
       "      <th></th>\n",
       "      <th></th>\n",
       "      <th></th>\n",
       "      <th></th>\n",
       "      <th></th>\n",
       "    </tr>\n",
       "  </thead>\n",
       "  <tbody>\n",
       "    <tr>\n",
       "      <th rowspan=\"5\" valign=\"top\">COMUNA 01</th>\n",
       "      <th>1001000001</th>\n",
       "      <td>0.27</td>\n",
       "      <td>11</td>\n",
       "      <td>-2.50</td>\n",
       "      <td>-187</td>\n",
       "      <td>-0.75</td>\n",
       "      <td>-55</td>\n",
       "      <td>1.01</td>\n",
       "      <td>71</td>\n",
       "      <td>-0.37</td>\n",
       "      <td>-27</td>\n",
       "      <td>0.97</td>\n",
       "      <td>68</td>\n",
       "    </tr>\n",
       "    <tr>\n",
       "      <th>1001000002</th>\n",
       "      <td>0.37</td>\n",
       "      <td>22</td>\n",
       "      <td>-2.46</td>\n",
       "      <td>-167</td>\n",
       "      <td>-0.89</td>\n",
       "      <td>-60</td>\n",
       "      <td>1.00</td>\n",
       "      <td>66</td>\n",
       "      <td>-0.30</td>\n",
       "      <td>-20</td>\n",
       "      <td>0.89</td>\n",
       "      <td>59</td>\n",
       "    </tr>\n",
       "    <tr>\n",
       "      <th>1001000003</th>\n",
       "      <td>0.57</td>\n",
       "      <td>19</td>\n",
       "      <td>-0.92</td>\n",
       "      <td>-31</td>\n",
       "      <td>-0.92</td>\n",
       "      <td>-31</td>\n",
       "      <td>0.47</td>\n",
       "      <td>16</td>\n",
       "      <td>-0.60</td>\n",
       "      <td>-20</td>\n",
       "      <td>1.10</td>\n",
       "      <td>37</td>\n",
       "    </tr>\n",
       "    <tr>\n",
       "      <th>1001000005</th>\n",
       "      <td>-0.10</td>\n",
       "      <td>-7</td>\n",
       "      <td>-4.41</td>\n",
       "      <td>-244</td>\n",
       "      <td>-0.37</td>\n",
       "      <td>-20</td>\n",
       "      <td>0.11</td>\n",
       "      <td>6</td>\n",
       "      <td>-0.13</td>\n",
       "      <td>-7</td>\n",
       "      <td>4.77</td>\n",
       "      <td>257</td>\n",
       "    </tr>\n",
       "    <tr>\n",
       "      <th>1001000006</th>\n",
       "      <td>-3.06</td>\n",
       "      <td>-347</td>\n",
       "      <td>-0.72</td>\n",
       "      <td>-81</td>\n",
       "      <td>-0.56</td>\n",
       "      <td>-62</td>\n",
       "      <td>0.35</td>\n",
       "      <td>39</td>\n",
       "      <td>-0.42</td>\n",
       "      <td>-47</td>\n",
       "      <td>1.16</td>\n",
       "      <td>128</td>\n",
       "    </tr>\n",
       "    <tr>\n",
       "      <th>...</th>\n",
       "      <th>...</th>\n",
       "      <td>...</td>\n",
       "      <td>...</td>\n",
       "      <td>...</td>\n",
       "      <td>...</td>\n",
       "      <td>...</td>\n",
       "      <td>...</td>\n",
       "      <td>...</td>\n",
       "      <td>...</td>\n",
       "      <td>...</td>\n",
       "      <td>...</td>\n",
       "      <td>...</td>\n",
       "      <td>...</td>\n",
       "    </tr>\n",
       "    <tr>\n",
       "      <th rowspan=\"5\" valign=\"top\">COMUNA 15</th>\n",
       "      <th>1015000163</th>\n",
       "      <td>0.53</td>\n",
       "      <td>44</td>\n",
       "      <td>-2.54</td>\n",
       "      <td>-249</td>\n",
       "      <td>-1.29</td>\n",
       "      <td>-124</td>\n",
       "      <td>1.44</td>\n",
       "      <td>137</td>\n",
       "      <td>-0.36</td>\n",
       "      <td>-35</td>\n",
       "      <td>0.36</td>\n",
       "      <td>34</td>\n",
       "    </tr>\n",
       "    <tr>\n",
       "      <th>1015000164</th>\n",
       "      <td>0.52</td>\n",
       "      <td>45</td>\n",
       "      <td>-2.91</td>\n",
       "      <td>-252</td>\n",
       "      <td>-1.10</td>\n",
       "      <td>-95</td>\n",
       "      <td>1.59</td>\n",
       "      <td>138</td>\n",
       "      <td>-0.43</td>\n",
       "      <td>-37</td>\n",
       "      <td>0.54</td>\n",
       "      <td>47</td>\n",
       "    </tr>\n",
       "    <tr>\n",
       "      <th>1015000165</th>\n",
       "      <td>0.64</td>\n",
       "      <td>98</td>\n",
       "      <td>-2.42</td>\n",
       "      <td>-386</td>\n",
       "      <td>-1.35</td>\n",
       "      <td>-214</td>\n",
       "      <td>1.36</td>\n",
       "      <td>215</td>\n",
       "      <td>-0.53</td>\n",
       "      <td>-83</td>\n",
       "      <td>0.60</td>\n",
       "      <td>94</td>\n",
       "    </tr>\n",
       "    <tr>\n",
       "      <th>1015000166</th>\n",
       "      <td>0.63</td>\n",
       "      <td>84</td>\n",
       "      <td>-2.58</td>\n",
       "      <td>-339</td>\n",
       "      <td>-1.44</td>\n",
       "      <td>-189</td>\n",
       "      <td>1.40</td>\n",
       "      <td>184</td>\n",
       "      <td>-0.42</td>\n",
       "      <td>-55</td>\n",
       "      <td>0.62</td>\n",
       "      <td>82</td>\n",
       "    </tr>\n",
       "    <tr>\n",
       "      <th>1015000167</th>\n",
       "      <td>0.40</td>\n",
       "      <td>80</td>\n",
       "      <td>-1.41</td>\n",
       "      <td>-122</td>\n",
       "      <td>-1.32</td>\n",
       "      <td>-131</td>\n",
       "      <td>0.97</td>\n",
       "      <td>107</td>\n",
       "      <td>-0.56</td>\n",
       "      <td>-56</td>\n",
       "      <td>0.21</td>\n",
       "      <td>25</td>\n",
       "    </tr>\n",
       "  </tbody>\n",
       "</table>\n",
       "<p>166 rows × 12 columns</p>\n",
       "</div>"
      ],
      "text/plain": [
       "                               DIFERENCIA_REL_JXC  DIFERENCIA_ABS_JXC  \\\n",
       "NOMBRE_REGION CODIGO_CIRCUITO                                           \n",
       "COMUNA 01     1001000001                     0.27                  11   \n",
       "              1001000002                     0.37                  22   \n",
       "              1001000003                     0.57                  19   \n",
       "              1001000005                    -0.10                  -7   \n",
       "              1001000006                    -3.06                -347   \n",
       "...                                           ...                 ...   \n",
       "COMUNA 15     1015000163                     0.53                  44   \n",
       "              1015000164                     0.52                  45   \n",
       "              1015000165                     0.64                  98   \n",
       "              1015000166                     0.63                  84   \n",
       "              1015000167                     0.40                  80   \n",
       "\n",
       "                               DIFERENCIA_REL_FDT  DIFERENCIA_ABS_FDT  \\\n",
       "NOMBRE_REGION CODIGO_CIRCUITO                                           \n",
       "COMUNA 01     1001000001                    -2.50                -187   \n",
       "              1001000002                    -2.46                -167   \n",
       "              1001000003                    -0.92                 -31   \n",
       "              1001000005                    -4.41                -244   \n",
       "              1001000006                    -0.72                 -81   \n",
       "...                                           ...                 ...   \n",
       "COMUNA 15     1015000163                    -2.54                -249   \n",
       "              1015000164                    -2.91                -252   \n",
       "              1015000165                    -2.42                -386   \n",
       "              1015000166                    -2.58                -339   \n",
       "              1015000167                    -1.41                -122   \n",
       "\n",
       "                               DIFERENCIA_REL_CF  DIFERENCIA_ABS_CF  \\\n",
       "NOMBRE_REGION CODIGO_CIRCUITO                                         \n",
       "COMUNA 01     1001000001                   -0.75                -55   \n",
       "              1001000002                   -0.89                -60   \n",
       "              1001000003                   -0.92                -31   \n",
       "              1001000005                   -0.37                -20   \n",
       "              1001000006                   -0.56                -62   \n",
       "...                                          ...                ...   \n",
       "COMUNA 15     1015000163                   -1.29               -124   \n",
       "              1015000164                   -1.10                -95   \n",
       "              1015000165                   -1.35               -214   \n",
       "              1015000166                   -1.44               -189   \n",
       "              1015000167                   -1.32               -131   \n",
       "\n",
       "                               DIFERENCIA_REL_FIT  DIFERENCIA_ABS_FIT  \\\n",
       "NOMBRE_REGION CODIGO_CIRCUITO                                           \n",
       "COMUNA 01     1001000001                     1.01                  71   \n",
       "              1001000002                     1.00                  66   \n",
       "              1001000003                     0.47                  16   \n",
       "              1001000005                     0.11                   6   \n",
       "              1001000006                     0.35                  39   \n",
       "...                                           ...                 ...   \n",
       "COMUNA 15     1015000163                     1.44                 137   \n",
       "              1015000164                     1.59                 138   \n",
       "              1015000165                     1.36                 215   \n",
       "              1015000166                     1.40                 184   \n",
       "              1015000167                     0.97                 107   \n",
       "\n",
       "                               DIFERENCIA_REL_ULD  DIFERENCIA_ABS_ULD  \\\n",
       "NOMBRE_REGION CODIGO_CIRCUITO                                           \n",
       "COMUNA 01     1001000001                    -0.37                 -27   \n",
       "              1001000002                    -0.30                 -20   \n",
       "              1001000003                    -0.60                 -20   \n",
       "              1001000005                    -0.13                  -7   \n",
       "              1001000006                    -0.42                 -47   \n",
       "...                                           ...                 ...   \n",
       "COMUNA 15     1015000163                    -0.36                 -35   \n",
       "              1015000164                    -0.43                 -37   \n",
       "              1015000165                    -0.53                 -83   \n",
       "              1015000166                    -0.42                 -55   \n",
       "              1015000167                    -0.56                 -56   \n",
       "\n",
       "                               DIFERENCIA_REL_BLANCO  DIFERENCIA_ABS_BLANCO  \n",
       "NOMBRE_REGION CODIGO_CIRCUITO                                                \n",
       "COMUNA 01     1001000001                        0.97                     68  \n",
       "              1001000002                        0.89                     59  \n",
       "              1001000003                        1.10                     37  \n",
       "              1001000005                        4.77                    257  \n",
       "              1001000006                        1.16                    128  \n",
       "...                                              ...                    ...  \n",
       "COMUNA 15     1015000163                        0.36                     34  \n",
       "              1015000164                        0.54                     47  \n",
       "              1015000165                        0.60                     94  \n",
       "              1015000166                        0.62                     82  \n",
       "              1015000167                        0.21                     25  \n",
       "\n",
       "[166 rows x 12 columns]"
      ]
     },
     "execution_count": 40,
     "metadata": {},
     "output_type": "execute_result"
    }
   ],
   "source": [
    "comparacion_diferencia_circuito"
   ]
  },
  {
   "cell_type": "markdown",
   "id": "06ea1d2d",
   "metadata": {
    "slideshow": {
     "slide_type": "slide"
    }
   },
   "source": [
    "#### Comparación de las diferencias por Comuna"
   ]
  },
  {
   "cell_type": "code",
   "execution_count": 41,
   "id": "46c7ab1d",
   "metadata": {
    "slideshow": {
     "slide_type": "skip"
    }
   },
   "outputs": [],
   "source": [
    "comparacion_diferencia_comuna = pd.concat([sub_diferencia_jxc_comuna, sub_diferencia_fdt_comuna, \n",
    "                                            sub_diferencia_cf_comuna, sub_diferencia_fit_comuna, sub_diferencia_uld_comuna, sub_diferencia_blanco_comuna],\n",
    "                                            axis=1)"
   ]
  },
  {
   "cell_type": "code",
   "execution_count": 42,
   "id": "431bb927",
   "metadata": {
    "slideshow": {
     "slide_type": "-"
    }
   },
   "outputs": [
    {
     "data": {
      "text/html": [
       "<div>\n",
       "<style scoped>\n",
       "    .dataframe tbody tr th:only-of-type {\n",
       "        vertical-align: middle;\n",
       "    }\n",
       "\n",
       "    .dataframe tbody tr th {\n",
       "        vertical-align: top;\n",
       "    }\n",
       "\n",
       "    .dataframe thead th {\n",
       "        text-align: right;\n",
       "    }\n",
       "</style>\n",
       "<table border=\"1\" class=\"dataframe\">\n",
       "  <thead>\n",
       "    <tr style=\"text-align: right;\">\n",
       "      <th></th>\n",
       "      <th>DIFERENCIA_REL_JXC</th>\n",
       "      <th>DIFERENCIA_ABS_JXC</th>\n",
       "      <th>DIFERENCIA_REL_FDT</th>\n",
       "      <th>DIFERENCIA_ABS_FDT</th>\n",
       "      <th>DIFERENCIA_REL_CF</th>\n",
       "      <th>DIFERENCIA_ABS_CF</th>\n",
       "      <th>DIFERENCIA_REL_FIT</th>\n",
       "      <th>DIFERENCIA_ABS_FIT</th>\n",
       "      <th>DIFERENCIA_REL_ULD</th>\n",
       "      <th>DIFERENCIA_ABS_ULD</th>\n",
       "      <th>DIFERENCIA_REL_BLANCO</th>\n",
       "      <th>DIFERENCIA_ABS_BLANCO</th>\n",
       "    </tr>\n",
       "    <tr>\n",
       "      <th>NOMBRE_REGION</th>\n",
       "      <th></th>\n",
       "      <th></th>\n",
       "      <th></th>\n",
       "      <th></th>\n",
       "      <th></th>\n",
       "      <th></th>\n",
       "      <th></th>\n",
       "      <th></th>\n",
       "      <th></th>\n",
       "      <th></th>\n",
       "      <th></th>\n",
       "      <th></th>\n",
       "    </tr>\n",
       "  </thead>\n",
       "  <tbody>\n",
       "    <tr>\n",
       "      <th>COMUNA 01</th>\n",
       "      <td>-0.18</td>\n",
       "      <td>-333</td>\n",
       "      <td>-2.06</td>\n",
       "      <td>-2606</td>\n",
       "      <td>-0.87</td>\n",
       "      <td>-1074</td>\n",
       "      <td>0.65</td>\n",
       "      <td>781</td>\n",
       "      <td>-0.41</td>\n",
       "      <td>-512</td>\n",
       "      <td>1.46</td>\n",
       "      <td>1773</td>\n",
       "    </tr>\n",
       "    <tr>\n",
       "      <th>COMUNA 02</th>\n",
       "      <td>-1.02</td>\n",
       "      <td>-1282</td>\n",
       "      <td>-1.08</td>\n",
       "      <td>-1188</td>\n",
       "      <td>-0.97</td>\n",
       "      <td>-1031</td>\n",
       "      <td>0.63</td>\n",
       "      <td>641</td>\n",
       "      <td>-0.48</td>\n",
       "      <td>-509</td>\n",
       "      <td>0.70</td>\n",
       "      <td>715</td>\n",
       "    </tr>\n",
       "    <tr>\n",
       "      <th>COMUNA 03</th>\n",
       "      <td>0.27</td>\n",
       "      <td>239</td>\n",
       "      <td>-2.13</td>\n",
       "      <td>-2558</td>\n",
       "      <td>-1.19</td>\n",
       "      <td>-1402</td>\n",
       "      <td>0.81</td>\n",
       "      <td>938</td>\n",
       "      <td>-0.40</td>\n",
       "      <td>-471</td>\n",
       "      <td>1.38</td>\n",
       "      <td>1606</td>\n",
       "    </tr>\n",
       "    <tr>\n",
       "      <th>COMUNA 04</th>\n",
       "      <td>0.33</td>\n",
       "      <td>452</td>\n",
       "      <td>-2.76</td>\n",
       "      <td>-3777</td>\n",
       "      <td>-0.95</td>\n",
       "      <td>-1300</td>\n",
       "      <td>0.45</td>\n",
       "      <td>629</td>\n",
       "      <td>-0.35</td>\n",
       "      <td>-473</td>\n",
       "      <td>2.35</td>\n",
       "      <td>3220</td>\n",
       "    </tr>\n",
       "    <tr>\n",
       "      <th>COMUNA 05</th>\n",
       "      <td>0.49</td>\n",
       "      <td>580</td>\n",
       "      <td>-2.20</td>\n",
       "      <td>-2692</td>\n",
       "      <td>-1.29</td>\n",
       "      <td>-1579</td>\n",
       "      <td>1.08</td>\n",
       "      <td>1325</td>\n",
       "      <td>-0.44</td>\n",
       "      <td>-529</td>\n",
       "      <td>0.85</td>\n",
       "      <td>1037</td>\n",
       "    </tr>\n",
       "    <tr>\n",
       "      <th>COMUNA 06</th>\n",
       "      <td>0.63</td>\n",
       "      <td>809</td>\n",
       "      <td>-1.98</td>\n",
       "      <td>-2531</td>\n",
       "      <td>-1.51</td>\n",
       "      <td>-1921</td>\n",
       "      <td>1.06</td>\n",
       "      <td>1349</td>\n",
       "      <td>-0.57</td>\n",
       "      <td>-722</td>\n",
       "      <td>0.43</td>\n",
       "      <td>547</td>\n",
       "    </tr>\n",
       "    <tr>\n",
       "      <th>COMUNA 07</th>\n",
       "      <td>0.57</td>\n",
       "      <td>665</td>\n",
       "      <td>-2.07</td>\n",
       "      <td>-2867</td>\n",
       "      <td>-1.41</td>\n",
       "      <td>-1908</td>\n",
       "      <td>0.84</td>\n",
       "      <td>1114</td>\n",
       "      <td>-0.49</td>\n",
       "      <td>-668</td>\n",
       "      <td>1.12</td>\n",
       "      <td>1494</td>\n",
       "    </tr>\n",
       "    <tr>\n",
       "      <th>COMUNA 08</th>\n",
       "      <td>0.52</td>\n",
       "      <td>324</td>\n",
       "      <td>-2.36</td>\n",
       "      <td>-2881</td>\n",
       "      <td>-0.79</td>\n",
       "      <td>-895</td>\n",
       "      <td>0.17</td>\n",
       "      <td>146</td>\n",
       "      <td>-0.23</td>\n",
       "      <td>-267</td>\n",
       "      <td>2.44</td>\n",
       "      <td>2564</td>\n",
       "    </tr>\n",
       "    <tr>\n",
       "      <th>COMUNA 09</th>\n",
       "      <td>0.62</td>\n",
       "      <td>709</td>\n",
       "      <td>-1.62</td>\n",
       "      <td>-1890</td>\n",
       "      <td>-1.23</td>\n",
       "      <td>-1435</td>\n",
       "      <td>0.42</td>\n",
       "      <td>488</td>\n",
       "      <td>-0.44</td>\n",
       "      <td>-522</td>\n",
       "      <td>1.33</td>\n",
       "      <td>1551</td>\n",
       "    </tr>\n",
       "    <tr>\n",
       "      <th>COMUNA 10</th>\n",
       "      <td>0.58</td>\n",
       "      <td>674</td>\n",
       "      <td>-1.69</td>\n",
       "      <td>-2011</td>\n",
       "      <td>-1.43</td>\n",
       "      <td>-1695</td>\n",
       "      <td>0.63</td>\n",
       "      <td>752</td>\n",
       "      <td>-0.54</td>\n",
       "      <td>-634</td>\n",
       "      <td>1.00</td>\n",
       "      <td>1193</td>\n",
       "    </tr>\n",
       "    <tr>\n",
       "      <th>COMUNA 11</th>\n",
       "      <td>0.92</td>\n",
       "      <td>1142</td>\n",
       "      <td>-1.78</td>\n",
       "      <td>-2519</td>\n",
       "      <td>-1.41</td>\n",
       "      <td>-1969</td>\n",
       "      <td>0.70</td>\n",
       "      <td>952</td>\n",
       "      <td>-0.53</td>\n",
       "      <td>-741</td>\n",
       "      <td>0.65</td>\n",
       "      <td>883</td>\n",
       "    </tr>\n",
       "    <tr>\n",
       "      <th>COMUNA 12</th>\n",
       "      <td>0.84</td>\n",
       "      <td>1192</td>\n",
       "      <td>-1.68</td>\n",
       "      <td>-2609</td>\n",
       "      <td>-1.37</td>\n",
       "      <td>-2099</td>\n",
       "      <td>0.84</td>\n",
       "      <td>1260</td>\n",
       "      <td>-0.60</td>\n",
       "      <td>-919</td>\n",
       "      <td>0.64</td>\n",
       "      <td>964</td>\n",
       "    </tr>\n",
       "    <tr>\n",
       "      <th>COMUNA 13</th>\n",
       "      <td>0.37</td>\n",
       "      <td>447</td>\n",
       "      <td>-1.35</td>\n",
       "      <td>-2349</td>\n",
       "      <td>-1.21</td>\n",
       "      <td>-2067</td>\n",
       "      <td>0.91</td>\n",
       "      <td>1525</td>\n",
       "      <td>-0.54</td>\n",
       "      <td>-919</td>\n",
       "      <td>0.57</td>\n",
       "      <td>942</td>\n",
       "    </tr>\n",
       "    <tr>\n",
       "      <th>COMUNA 14</th>\n",
       "      <td>0.14</td>\n",
       "      <td>268</td>\n",
       "      <td>-1.48</td>\n",
       "      <td>-2310</td>\n",
       "      <td>-1.11</td>\n",
       "      <td>-1724</td>\n",
       "      <td>0.89</td>\n",
       "      <td>1395</td>\n",
       "      <td>-0.47</td>\n",
       "      <td>-732</td>\n",
       "      <td>0.78</td>\n",
       "      <td>1231</td>\n",
       "    </tr>\n",
       "    <tr>\n",
       "      <th>COMUNA 15</th>\n",
       "      <td>0.51</td>\n",
       "      <td>655</td>\n",
       "      <td>-2.61</td>\n",
       "      <td>-3345</td>\n",
       "      <td>-1.39</td>\n",
       "      <td>-1779</td>\n",
       "      <td>1.36</td>\n",
       "      <td>1754</td>\n",
       "      <td>-0.47</td>\n",
       "      <td>-598</td>\n",
       "      <td>0.54</td>\n",
       "      <td>700</td>\n",
       "    </tr>\n",
       "  </tbody>\n",
       "</table>\n",
       "</div>"
      ],
      "text/plain": [
       "               DIFERENCIA_REL_JXC  DIFERENCIA_ABS_JXC  DIFERENCIA_REL_FDT  \\\n",
       "NOMBRE_REGION                                                               \n",
       "COMUNA 01                   -0.18                -333               -2.06   \n",
       "COMUNA 02                   -1.02               -1282               -1.08   \n",
       "COMUNA 03                    0.27                 239               -2.13   \n",
       "COMUNA 04                    0.33                 452               -2.76   \n",
       "COMUNA 05                    0.49                 580               -2.20   \n",
       "COMUNA 06                    0.63                 809               -1.98   \n",
       "COMUNA 07                    0.57                 665               -2.07   \n",
       "COMUNA 08                    0.52                 324               -2.36   \n",
       "COMUNA 09                    0.62                 709               -1.62   \n",
       "COMUNA 10                    0.58                 674               -1.69   \n",
       "COMUNA 11                    0.92                1142               -1.78   \n",
       "COMUNA 12                    0.84                1192               -1.68   \n",
       "COMUNA 13                    0.37                 447               -1.35   \n",
       "COMUNA 14                    0.14                 268               -1.48   \n",
       "COMUNA 15                    0.51                 655               -2.61   \n",
       "\n",
       "               DIFERENCIA_ABS_FDT  DIFERENCIA_REL_CF  DIFERENCIA_ABS_CF  \\\n",
       "NOMBRE_REGION                                                             \n",
       "COMUNA 01                   -2606              -0.87              -1074   \n",
       "COMUNA 02                   -1188              -0.97              -1031   \n",
       "COMUNA 03                   -2558              -1.19              -1402   \n",
       "COMUNA 04                   -3777              -0.95              -1300   \n",
       "COMUNA 05                   -2692              -1.29              -1579   \n",
       "COMUNA 06                   -2531              -1.51              -1921   \n",
       "COMUNA 07                   -2867              -1.41              -1908   \n",
       "COMUNA 08                   -2881              -0.79               -895   \n",
       "COMUNA 09                   -1890              -1.23              -1435   \n",
       "COMUNA 10                   -2011              -1.43              -1695   \n",
       "COMUNA 11                   -2519              -1.41              -1969   \n",
       "COMUNA 12                   -2609              -1.37              -2099   \n",
       "COMUNA 13                   -2349              -1.21              -2067   \n",
       "COMUNA 14                   -2310              -1.11              -1724   \n",
       "COMUNA 15                   -3345              -1.39              -1779   \n",
       "\n",
       "               DIFERENCIA_REL_FIT  DIFERENCIA_ABS_FIT  DIFERENCIA_REL_ULD  \\\n",
       "NOMBRE_REGION                                                               \n",
       "COMUNA 01                    0.65                 781               -0.41   \n",
       "COMUNA 02                    0.63                 641               -0.48   \n",
       "COMUNA 03                    0.81                 938               -0.40   \n",
       "COMUNA 04                    0.45                 629               -0.35   \n",
       "COMUNA 05                    1.08                1325               -0.44   \n",
       "COMUNA 06                    1.06                1349               -0.57   \n",
       "COMUNA 07                    0.84                1114               -0.49   \n",
       "COMUNA 08                    0.17                 146               -0.23   \n",
       "COMUNA 09                    0.42                 488               -0.44   \n",
       "COMUNA 10                    0.63                 752               -0.54   \n",
       "COMUNA 11                    0.70                 952               -0.53   \n",
       "COMUNA 12                    0.84                1260               -0.60   \n",
       "COMUNA 13                    0.91                1525               -0.54   \n",
       "COMUNA 14                    0.89                1395               -0.47   \n",
       "COMUNA 15                    1.36                1754               -0.47   \n",
       "\n",
       "               DIFERENCIA_ABS_ULD  DIFERENCIA_REL_BLANCO  \\\n",
       "NOMBRE_REGION                                              \n",
       "COMUNA 01                    -512                   1.46   \n",
       "COMUNA 02                    -509                   0.70   \n",
       "COMUNA 03                    -471                   1.38   \n",
       "COMUNA 04                    -473                   2.35   \n",
       "COMUNA 05                    -529                   0.85   \n",
       "COMUNA 06                    -722                   0.43   \n",
       "COMUNA 07                    -668                   1.12   \n",
       "COMUNA 08                    -267                   2.44   \n",
       "COMUNA 09                    -522                   1.33   \n",
       "COMUNA 10                    -634                   1.00   \n",
       "COMUNA 11                    -741                   0.65   \n",
       "COMUNA 12                    -919                   0.64   \n",
       "COMUNA 13                    -919                   0.57   \n",
       "COMUNA 14                    -732                   0.78   \n",
       "COMUNA 15                    -598                   0.54   \n",
       "\n",
       "               DIFERENCIA_ABS_BLANCO  \n",
       "NOMBRE_REGION                         \n",
       "COMUNA 01                       1773  \n",
       "COMUNA 02                        715  \n",
       "COMUNA 03                       1606  \n",
       "COMUNA 04                       3220  \n",
       "COMUNA 05                       1037  \n",
       "COMUNA 06                        547  \n",
       "COMUNA 07                       1494  \n",
       "COMUNA 08                       2564  \n",
       "COMUNA 09                       1551  \n",
       "COMUNA 10                       1193  \n",
       "COMUNA 11                        883  \n",
       "COMUNA 12                        964  \n",
       "COMUNA 13                        942  \n",
       "COMUNA 14                       1231  \n",
       "COMUNA 15                        700  "
      ]
     },
     "execution_count": 42,
     "metadata": {},
     "output_type": "execute_result"
    }
   ],
   "source": [
    "comparacion_diferencia_comuna"
   ]
  },
  {
   "cell_type": "code",
   "execution_count": 43,
   "id": "0c359515",
   "metadata": {},
   "outputs": [
    {
     "data": {
      "image/png": "[encoded data removed]",
      "text/plain": [
       "<Figure size 2880x2304 with 6 Axes>"
      ]
     },
     "metadata": {},
     "output_type": "display_data"
    }
   ],
   "source": [
    "gr4 = comparacion_diferencia_comuna.reset_index()\n",
    "fig_dims = (40,32)\n",
    "colors = [\"#FFFF00\", \"#00FFFF\", \"#800080\", \"#FF0000\", \"#000080\", \"#C0C0C0\"]\n",
    "fig, axes = plt.subplots(3,2,figsize=fig_dims)\n",
    "col_rel = 1\n",
    "partidos = ['Juntos por el Cambio', \"Frete de Todos\", \"Consenso Federal\", \"Frente de Izquierda\", \"Unite\", \"Blanco\"]\n",
    "cont_partidos = 0\n",
    "\n",
    "\n",
    "for i, ax in  enumerate(axes.flat):\n",
    "    fig = sns.barplot(y = gr4.iloc[:,col_rel], x = 'NOMBRE_REGION', data= gr4,ax=ax, color= colors[cont_partidos])\n",
    "    fig.set(xlabel= 'Comunas', ylabel= f'Diferencia relativa entre Diputaado y Presidente.  {partidos[cont_partidos]}', title= f'Diferencia entre voto Diputado y Presidente por comuna  {partidos[cont_partidos]}')\n",
    "\n",
    "    col_rel += 2\n",
    "    cont_partidos +=1\n",
    "\n",
    "\n"
   ]
  },
  {
   "cell_type": "markdown",
   "id": "2661adac",
   "metadata": {
    "slideshow": {
     "slide_type": "slide"
    }
   },
   "source": [
    "### Análisis 2.2\n",
    " Se puede apreciar que las agrupaciones que más pierden votos legislativos son *Frente de Todos* y *Consenso Federal*\n",
    "\n",
    "\n",
    "Por lo tanto, nos parece que una buena estrategia consiste en apuntar a ir a buscar esos votos, con el objetivo de que esos votos que \"pierden\" dichos frentes, sean recperados con el FIT. Por una cuestión de afinidades ideológicas, resulta lógico pensar que estos algunos votantes de estos dos frentes (pertenecientes a ramas más o menos moderadas del Peronismo) voten al FIT para la categoría de Diputados Nacionales, sin embargo, nos parece que la mejor estrategia consiste en enfocar la busqueda de votos en el Frente de Todos, que, dentro del Peronismo, se acerca más a la \"izquierda\".  "
   ]
  },
  {
   "cell_type": "markdown",
   "id": "e8a81ce7",
   "metadata": {
    "slideshow": {
     "slide_type": "slide"
    }
   },
   "source": [
    "### 2.3"
   ]
  },
  {
   "cell_type": "markdown",
   "id": "e76421cf",
   "metadata": {
    "slideshow": {
     "slide_type": "-"
    }
   },
   "source": [
    "Otra cosa que resulta interesante es observar los resultados obtenidos por el FIT para cada una de las categorías, no solamente para diputados nacionales y presidentes, a fin de determinar si la estrategia enfocada a conseguir votos para diputados nacionales tiene sentido o no\n"
   ]
  },
  {
   "cell_type": "code",
   "execution_count": 44,
   "id": "211c6c14",
   "metadata": {
    "slideshow": {
     "slide_type": "slide"
    }
   },
   "outputs": [
    {
     "name": "stderr",
     "output_type": "stream",
     "text": [
      "C:\\Users\\Usuario\\anaconda3\\envs\\prueba38\\lib\\site-packages\\pandas\\core\\frame.py:5034: SettingWithCopyWarning: \n",
      "A value is trying to be set on a copy of a slice from a DataFrame\n",
      "\n",
      "See the caveats in the documentation: https://pandas.pydata.org/pandas-docs/stable/user_guide/indexing.html#returning-a-view-versus-a-copy\n",
      "  return super().rename(\n"
     ]
    },
    {
     "data": {
      "text/html": [
       "<div>\n",
       "<style scoped>\n",
       "    .dataframe tbody tr th:only-of-type {\n",
       "        vertical-align: middle;\n",
       "    }\n",
       "\n",
       "    .dataframe tbody tr th {\n",
       "        vertical-align: top;\n",
       "    }\n",
       "\n",
       "    .dataframe thead th {\n",
       "        text-align: right;\n",
       "    }\n",
       "</style>\n",
       "<table border=\"1\" class=\"dataframe\">\n",
       "  <thead>\n",
       "    <tr style=\"text-align: right;\">\n",
       "      <th></th>\n",
       "      <th>VOTOS_FDT_PRES</th>\n",
       "      <th>PORCENTAJE_FDT_PRES</th>\n",
       "      <th>VOTOS_FDT_DIP</th>\n",
       "      <th>PORCENTAJE_FDT_DIP</th>\n",
       "      <th>VOTOS_FIT_PRES</th>\n",
       "      <th>PORCENTAJE_FIT_PRES</th>\n",
       "      <th>VOTOS_FIT_DIP</th>\n",
       "      <th>PORCENTAJE_FIT_DIP</th>\n",
       "    </tr>\n",
       "    <tr>\n",
       "      <th>NOMBRE_REGION</th>\n",
       "      <th></th>\n",
       "      <th></th>\n",
       "      <th></th>\n",
       "      <th></th>\n",
       "      <th></th>\n",
       "      <th></th>\n",
       "      <th></th>\n",
       "      <th></th>\n",
       "    </tr>\n",
       "  </thead>\n",
       "  <tbody>\n",
       "    <tr>\n",
       "      <th>COMUNA 01</th>\n",
       "      <td>42299</td>\n",
       "      <td>34.66</td>\n",
       "      <td>39693</td>\n",
       "      <td>32.60</td>\n",
       "      <td>4368</td>\n",
       "      <td>3.58</td>\n",
       "      <td>5149</td>\n",
       "      <td>4.23</td>\n",
       "    </tr>\n",
       "    <tr>\n",
       "      <th>COMUNA 02</th>\n",
       "      <td>19615</td>\n",
       "      <td>18.81</td>\n",
       "      <td>18427</td>\n",
       "      <td>17.73</td>\n",
       "      <td>2620</td>\n",
       "      <td>2.51</td>\n",
       "      <td>3261</td>\n",
       "      <td>3.14</td>\n",
       "    </tr>\n",
       "    <tr>\n",
       "      <th>COMUNA 03</th>\n",
       "      <td>43139</td>\n",
       "      <td>36.82</td>\n",
       "      <td>40581</td>\n",
       "      <td>34.69</td>\n",
       "      <td>5124</td>\n",
       "      <td>4.37</td>\n",
       "      <td>6062</td>\n",
       "      <td>5.18</td>\n",
       "    </tr>\n",
       "    <tr>\n",
       "      <th>COMUNA 04</th>\n",
       "      <td>57837</td>\n",
       "      <td>42.25</td>\n",
       "      <td>54060</td>\n",
       "      <td>39.49</td>\n",
       "      <td>5798</td>\n",
       "      <td>4.24</td>\n",
       "      <td>6427</td>\n",
       "      <td>4.69</td>\n",
       "    </tr>\n",
       "    <tr>\n",
       "      <th>COMUNA 05</th>\n",
       "      <td>43785</td>\n",
       "      <td>35.90</td>\n",
       "      <td>41093</td>\n",
       "      <td>33.70</td>\n",
       "      <td>5740</td>\n",
       "      <td>4.71</td>\n",
       "      <td>7065</td>\n",
       "      <td>5.79</td>\n",
       "    </tr>\n",
       "    <tr>\n",
       "      <th>COMUNA 06</th>\n",
       "      <td>38548</td>\n",
       "      <td>30.21</td>\n",
       "      <td>36017</td>\n",
       "      <td>28.23</td>\n",
       "      <td>5248</td>\n",
       "      <td>4.11</td>\n",
       "      <td>6597</td>\n",
       "      <td>5.17</td>\n",
       "    </tr>\n",
       "    <tr>\n",
       "      <th>COMUNA 07</th>\n",
       "      <td>47901</td>\n",
       "      <td>35.71</td>\n",
       "      <td>45034</td>\n",
       "      <td>33.64</td>\n",
       "      <td>5247</td>\n",
       "      <td>3.91</td>\n",
       "      <td>6361</td>\n",
       "      <td>4.75</td>\n",
       "    </tr>\n",
       "    <tr>\n",
       "      <th>COMUNA 08</th>\n",
       "      <td>51803</td>\n",
       "      <td>48.36</td>\n",
       "      <td>48922</td>\n",
       "      <td>46.00</td>\n",
       "      <td>4018</td>\n",
       "      <td>3.75</td>\n",
       "      <td>4164</td>\n",
       "      <td>3.92</td>\n",
       "    </tr>\n",
       "    <tr>\n",
       "      <th>COMUNA 09</th>\n",
       "      <td>44797</td>\n",
       "      <td>38.41</td>\n",
       "      <td>42907</td>\n",
       "      <td>36.79</td>\n",
       "      <td>4568</td>\n",
       "      <td>3.92</td>\n",
       "      <td>5056</td>\n",
       "      <td>4.34</td>\n",
       "    </tr>\n",
       "    <tr>\n",
       "      <th>COMUNA 10</th>\n",
       "      <td>40478</td>\n",
       "      <td>34.09</td>\n",
       "      <td>38467</td>\n",
       "      <td>32.40</td>\n",
       "      <td>5148</td>\n",
       "      <td>4.34</td>\n",
       "      <td>5900</td>\n",
       "      <td>4.97</td>\n",
       "    </tr>\n",
       "    <tr>\n",
       "      <th>COMUNA 11</th>\n",
       "      <td>42788</td>\n",
       "      <td>31.07</td>\n",
       "      <td>40269</td>\n",
       "      <td>29.29</td>\n",
       "      <td>5461</td>\n",
       "      <td>3.96</td>\n",
       "      <td>6413</td>\n",
       "      <td>4.66</td>\n",
       "    </tr>\n",
       "    <tr>\n",
       "      <th>COMUNA 12</th>\n",
       "      <td>45793</td>\n",
       "      <td>30.10</td>\n",
       "      <td>43184</td>\n",
       "      <td>28.42</td>\n",
       "      <td>6180</td>\n",
       "      <td>4.06</td>\n",
       "      <td>7440</td>\n",
       "      <td>4.90</td>\n",
       "    </tr>\n",
       "    <tr>\n",
       "      <th>COMUNA 13</th>\n",
       "      <td>36370</td>\n",
       "      <td>21.55</td>\n",
       "      <td>34021</td>\n",
       "      <td>20.20</td>\n",
       "      <td>5457</td>\n",
       "      <td>3.23</td>\n",
       "      <td>6982</td>\n",
       "      <td>4.14</td>\n",
       "    </tr>\n",
       "    <tr>\n",
       "      <th>COMUNA 14</th>\n",
       "      <td>35605</td>\n",
       "      <td>22.71</td>\n",
       "      <td>33295</td>\n",
       "      <td>21.23</td>\n",
       "      <td>4675</td>\n",
       "      <td>2.98</td>\n",
       "      <td>6070</td>\n",
       "      <td>3.87</td>\n",
       "    </tr>\n",
       "    <tr>\n",
       "      <th>COMUNA 15</th>\n",
       "      <td>47133</td>\n",
       "      <td>36.67</td>\n",
       "      <td>43788</td>\n",
       "      <td>34.06</td>\n",
       "      <td>6094</td>\n",
       "      <td>4.74</td>\n",
       "      <td>7848</td>\n",
       "      <td>6.10</td>\n",
       "    </tr>\n",
       "  </tbody>\n",
       "</table>\n",
       "</div>"
      ],
      "text/plain": [
       "               VOTOS_FDT_PRES  PORCENTAJE_FDT_PRES  VOTOS_FDT_DIP  \\\n",
       "NOMBRE_REGION                                                       \n",
       "COMUNA 01               42299                34.66          39693   \n",
       "COMUNA 02               19615                18.81          18427   \n",
       "COMUNA 03               43139                36.82          40581   \n",
       "COMUNA 04               57837                42.25          54060   \n",
       "COMUNA 05               43785                35.90          41093   \n",
       "COMUNA 06               38548                30.21          36017   \n",
       "COMUNA 07               47901                35.71          45034   \n",
       "COMUNA 08               51803                48.36          48922   \n",
       "COMUNA 09               44797                38.41          42907   \n",
       "COMUNA 10               40478                34.09          38467   \n",
       "COMUNA 11               42788                31.07          40269   \n",
       "COMUNA 12               45793                30.10          43184   \n",
       "COMUNA 13               36370                21.55          34021   \n",
       "COMUNA 14               35605                22.71          33295   \n",
       "COMUNA 15               47133                36.67          43788   \n",
       "\n",
       "               PORCENTAJE_FDT_DIP  VOTOS_FIT_PRES  PORCENTAJE_FIT_PRES  \\\n",
       "NOMBRE_REGION                                                            \n",
       "COMUNA 01                   32.60            4368                 3.58   \n",
       "COMUNA 02                   17.73            2620                 2.51   \n",
       "COMUNA 03                   34.69            5124                 4.37   \n",
       "COMUNA 04                   39.49            5798                 4.24   \n",
       "COMUNA 05                   33.70            5740                 4.71   \n",
       "COMUNA 06                   28.23            5248                 4.11   \n",
       "COMUNA 07                   33.64            5247                 3.91   \n",
       "COMUNA 08                   46.00            4018                 3.75   \n",
       "COMUNA 09                   36.79            4568                 3.92   \n",
       "COMUNA 10                   32.40            5148                 4.34   \n",
       "COMUNA 11                   29.29            5461                 3.96   \n",
       "COMUNA 12                   28.42            6180                 4.06   \n",
       "COMUNA 13                   20.20            5457                 3.23   \n",
       "COMUNA 14                   21.23            4675                 2.98   \n",
       "COMUNA 15                   34.06            6094                 4.74   \n",
       "\n",
       "               VOTOS_FIT_DIP  PORCENTAJE_FIT_DIP  \n",
       "NOMBRE_REGION                                     \n",
       "COMUNA 01               5149                4.23  \n",
       "COMUNA 02               3261                3.14  \n",
       "COMUNA 03               6062                5.18  \n",
       "COMUNA 04               6427                4.69  \n",
       "COMUNA 05               7065                5.79  \n",
       "COMUNA 06               6597                5.17  \n",
       "COMUNA 07               6361                4.75  \n",
       "COMUNA 08               4164                3.92  \n",
       "COMUNA 09               5056                4.34  \n",
       "COMUNA 10               5900                4.97  \n",
       "COMUNA 11               6413                4.66  \n",
       "COMUNA 12               7440                4.90  \n",
       "COMUNA 13               6982                4.14  \n",
       "COMUNA 14               6070                3.87  \n",
       "COMUNA 15               7848                6.10  "
      ]
     },
     "execution_count": 44,
     "metadata": {},
     "output_type": "execute_result"
    }
   ],
   "source": [
    "votos_fdt = diferencia_fdt_comuna[['VOTOS_AGRUPACION_PRES','PORCENTAJE_AGRUPACION_PRES','VOTOS_AGRUPACION_DIP', 'PORCENTAJE_AGRUPACION_DIP']]\n",
    "votos_fdt.rename(columns={'VOTOS_AGRUPACION_PRES': 'VOTOS_FDT_PRES','PORCENTAJE_AGRUPACION_PRES': 'PORCENTAJE_FDT_PRES', 'VOTOS_AGRUPACION_DIP': 'VOTOS_FDT_DIP','PORCENTAJE_AGRUPACION_DIP': 'PORCENTAJE_FDT_DIP'}, inplace= True)\n",
    "\n",
    "votos_fit = diferencia_fit_comuna[['VOTOS_AGRUPACION_PRES','PORCENTAJE_AGRUPACION_PRES','VOTOS_AGRUPACION_DIP', 'PORCENTAJE_AGRUPACION_DIP']]\n",
    "votos_fit.rename(columns={'VOTOS_AGRUPACION_PRES': 'VOTOS_FIT_PRES','PORCENTAJE_AGRUPACION_PRES': 'PORCENTAJE_FIT_PRES', 'VOTOS_AGRUPACION_DIP': 'VOTOS_FIT_DIP','PORCENTAJE_AGRUPACION_DIP': 'PORCENTAJE_FIT_DIP'}, inplace= True)\n",
    "\n",
    "votos_fit_fdt = pd.merge(votos_fdt, votos_fit, left_index= True, right_index= True)\n",
    "votos_fit_fdt"
   ]
  },
  {
   "cell_type": "markdown",
   "id": "e060e8cb",
   "metadata": {
    "slideshow": {
     "slide_type": "slide"
    }
   },
   "source": [
    "### Análisis 2.3"
   ]
  },
  {
   "attachments": {},
   "cell_type": "markdown",
   "id": "fba7c240",
   "metadata": {
    "slideshow": {
     "slide_type": "slide"
    }
   },
   "source": [
    " Si observamos detenidamente la información mostrada anteriormente, podemos notar que en prácticamente todas las comunas, el FIT obtuvo más votos para la categoría de diputados nacionales que para cualquier otra de las categorías. Esto podría parecer una coincidencia, pero si observamos la boleta del FIT de 2019\n",
    "\n"
   ]
  },
  {
   "cell_type": "code",
   "execution_count": 45,
   "id": "e39197ca",
   "metadata": {
    "slideshow": {
     "slide_type": "slide"
    }
   },
   "outputs": [
    {
     "data": {
      "image/jpeg": "[encoded data removed]",
      "text/plain": [
       "<IPython.core.display.Image object>"
      ]
     },
     "execution_count": 45,
     "metadata": {},
     "output_type": "execute_result"
    }
   ],
   "source": [
    "Image(\"Datos/boleta_fit_caba1.jpg\")"
   ]
  },
  {
   "cell_type": "markdown",
   "id": "1b8291e8",
   "metadata": {
    "slideshow": {
     "slide_type": "slide"
    }
   },
   "source": [
    "Vemos que, por la forma en que está construida, necesariamente debó cortarse específicamente la categoría de Diputados Nacionales, separada de, por ejemplo, la de comuneros (que viene después), porque en caso contrario ambas categorías hubieran tenido porcentajes más similares que los que encontramos. Por lo que podemos afirmar con seguridad que el voto a Diputados Nacionales del fin es una categoría especialmente atractiva para analizar. "
   ]
  },
  {
   "cell_type": "markdown",
   "id": "9e90333b",
   "metadata": {
    "slideshow": {
     "slide_type": "slide"
    }
   },
   "source": [
    "### 2.4"
   ]
  },
  {
   "cell_type": "markdown",
   "id": "389aae63",
   "metadata": {
    "slideshow": {
     "slide_type": "-"
    }
   },
   "source": [
    " A continuación, y dado lo anterior, realizaremos una comparación de los votos para diputados obtenidos por el FIT y por el FDT en cada una de las comunas, con el objetivo de identificar cuáles son las comunas a las que le convendría al FIT ir a buscar votos"
   ]
  },
  {
   "cell_type": "markdown",
   "id": "0c79532e",
   "metadata": {
    "slideshow": {
     "slide_type": "slide"
    }
   },
   "source": [
    "Comparación votos a Diputados Nacionales de FDT y FIT por comuna"
   ]
  },
  {
   "cell_type": "code",
   "execution_count": 58,
   "id": "b9e15074",
   "metadata": {
    "slideshow": {
     "slide_type": "-"
    }
   },
   "outputs": [
    {
     "data": {
      "image/png": "[encoded data removed]",
      "text/plain": [
       "<Figure size 720x576 with 1 Axes>"
      ]
     },
     "metadata": {},
     "output_type": "display_data"
    }
   ],
   "source": [
    "gr5 = votos_fit_fdt.reset_index()\n",
    "labels = gr5[\"NOMBRE_REGION\"]\n",
    "x = np.arange(len(labels))  \n",
    "width = 0.35 \n",
    "yticks = np.arange(0,60000,5000)\n",
    "\n",
    "fig, ax = plt.subplots(figsize=(10,8))\n",
    "rects1 = ax.bar(x - width/2, gr5['VOTOS_FIT_DIP'], width, label='FIT-U', data= gr5, color= 'red')\n",
    "rects2 = ax.bar(x + width/2, gr5['VOTOS_FDT_DIP'], width, label='FdT', color = 'cyan')\n",
    "\n",
    "\n",
    "ax.set_ylabel('Votos')\n",
    "ax.set_title('Comparación votos a diputados de FDT y FIT por comuna')\n",
    "ax.set_xticks(x)\n",
    "ax.set_xticklabels(labels)\n",
    "ax.set_yticks(yticks)\n",
    "ax.legend()\n",
    "\n",
    "plt.xticks(rotation=90)\n",
    "\n",
    "fig.tight_layout()\n"
   ]
  },
  {
   "cell_type": "markdown",
   "id": "bdafb899",
   "metadata": {
    "slideshow": {
     "slide_type": "slide"
    }
   },
   "source": [
    "#### Análisis 2.4\n",
    "\n",
    "Como podemos observar en el gráfico anterior, si el objetivo ir a buscar votos para Diputados Nacionales en las comunas en las que el FIT obtuvo mejores resultados tanto a nivel presidencial como a nivel de Diputados Nacionales (comunas 4, 5, 6, 7, 10, 11, 12, y 15), lo ideal sería priorizar aquellas comunas en las que el principal frente al que se busca sacarle votos (el FDT) obtuvo también los mejores resultados.\n",
    "\n",
    "En este caso, como podemos observar, las cinco comunas en las que el FDT obtuvo mejores resultados fueron la comuna 4, la comuna 8, la comuna 7, la comuna 15 y la comuna 11, en ese orden. Respecto del FIT, el orden de los resultados obtenido en esas mismas comunas (de mejor a peor) es: comuna 15, comuna 7, comuna 4, comuna 11, comuna 8. \n",
    "\n"
   ]
  },
  {
   "cell_type": "markdown",
   "id": "34248f21",
   "metadata": {
    "slideshow": {
     "slide_type": "slide"
    }
   },
   "source": [
    "Por lo tanto podríamos recomendar, si el objetivo fuera obtener mejores resultados en la categoría de Diputados Nacionales (lo que consideramos la decisión adecuada), que las comunas a las que convendría ir a buscar votos son, en orden de mejor a peor: **comuna 11, comuna 4, comuna 7 y comuna 15**. \n",
    "\n",
    "Dado que son aquellas comunas en las que el FIT obtuvo buenos resultados pero también lo hizo el FDT (su principal \"contrincante\" a la hora de conseguir votos) y, además, las mismas están ordenadas de manera que se priorizan (con las consideraciones antes mencionadas) aquellas comunas en las que le fue relativamente mejor al FDT con respecto al FIT \n"
   ]
  },
  {
   "cell_type": "markdown",
   "id": "92522012",
   "metadata": {
    "slideshow": {
     "slide_type": "slide"
    }
   },
   "source": [
    "### 2.5"
   ]
  },
  {
   "cell_type": "markdown",
   "id": "2a8ad623",
   "metadata": {
    "slideshow": {
     "slide_type": "-"
    }
   },
   "source": [
    "#### Finalmente, realizaremos una comparación de los votos para presidente obtenidos por el FIT y por el FDT en cada una de las comunas, con el objetivo de identificar cuáles son las comunas a las que le convendría al FIT ir a buscar votos presidenciales"
   ]
  },
  {
   "cell_type": "code",
   "execution_count": 60,
   "id": "b37a8c22",
   "metadata": {
    "slideshow": {
     "slide_type": "slide"
    }
   },
   "outputs": [
    {
     "data": {
      "image/png": "[encoded data removed]",
      "text/plain": [
       "<Figure size 720x576 with 1 Axes>"
      ]
     },
     "metadata": {},
     "output_type": "display_data"
    }
   ],
   "source": [
    "#Comparacion porcentaje de votos FIT y FDT por comuna\n",
    "gr5 = votos_fit_fdt.reset_index()\n",
    "labels = gr5[\"NOMBRE_REGION\"]\n",
    "x = np.arange(len(labels))  \n",
    "width = 0.35 \n",
    "yticks = np.arange(0,60000,5000)\n",
    "\n",
    "fig, ax = plt.subplots(figsize=(10,8))\n",
    "rects1 = ax.bar(x - width/2, gr5['VOTOS_FIT_PRES'], width, label='FIT-U', data= gr5, color= 'red')\n",
    "rects2 = ax.bar(x + width/2, gr5['VOTOS_FDT_PRES'], width, label='FdT', color = 'cyan')\n",
    "\n",
    "\n",
    "ax.set_ylabel('Votos')\n",
    "ax.set_title('Comparación porcentaje de votos presidenciales de FDT y FIT por comuna')\n",
    "ax.set_xticks(x)\n",
    "ax.set_xticklabels(labels)\n",
    "ax.set_yticks(yticks)\n",
    "ax.legend()\n",
    "\n",
    "plt.xticks(rotation=90)\n",
    "\n",
    "fig.tight_layout()"
   ]
  },
  {
   "cell_type": "markdown",
   "id": "c0ecc0fa",
   "metadata": {
    "slideshow": {
     "slide_type": "slide"
    }
   },
   "source": [
    "### Análisis 2.5"
   ]
  },
  {
   "cell_type": "markdown",
   "id": "d7285e19",
   "metadata": {
    "slideshow": {
     "slide_type": "-"
    }
   },
   "source": [
    " Como podemos observar en el gráfico anterior, si el objetivo ir a buscar votos para presidente en las comunas en las que el FIT obtuvo mejores resultados tanto a nivel presidencial como a nivel de Diputados Nacionales (comunas 4, 5, 6, 7, 10, 11, 12, y 15), lo ideal sería priorizar aquellas comunas en las que el principal frente al que se busca sacarle votos (el FDT) obtuvo también los mejores resultados. \n",
    " \n",
    " En este caso, como podemos observar, las cinco comunas en las que el FDT obtuvo mejores resultados presidenciales fueron la comuna 8, la comuna 4, la comuna 9, la comuna 15 y la comuna 3, en ese orden. Respecto del FIT, el orden de los resultados obtenido en esas mismas comunas (de mejor a peor) es: comuna 15, comuna 3, comuna 4, comuna 9, comuna 8. \n",
    "\n"
   ]
  },
  {
   "cell_type": "markdown",
   "id": "cb7827e2",
   "metadata": {
    "slideshow": {
     "slide_type": "slide"
    }
   },
   "source": [
    "Por lo tanto podríamos recomendar, si el objetivo fuera obtener mejores resultados en la categoría de Presidente y Vicepresidente (lo cuál **NO recomendamos** como una estrategia adecuada), que las comunas a las que convendría ir a buscar votos son, en orden de mejor a peor: **comuna 4 y comuna 15**. \n",
    "\n",
    "Dado que son aquellas comunas en las que el FIT obtuvo buenos resultados pero también lo hizo el FDT (su principal \"contrincante\" a la hora de conseguir votos) y, además, las mismas están ordenadas de manera que se priorizan (con las consideraciones antes mencionadas) aquellas comunas en las que le fue relativamente mejor al FDT con respecto al FIT "
   ]
  }
 ],
 "metadata": {
  "celltoolbar": "Slideshow",
  "interpreter": {
   "hash": "71bf529ff0c655fe993fd2d632daf45469913bb63e6cb968bc5b286f559fefb1"
  },
  "kernelspec": {
   "display_name": "Python 3 (ipykernel)",
   "language": "python",
   "name": "python3"
  },
  "language_info": {
   "codemirror_mode": {
    "name": "ipython",
    "version": 3
   },
   "file_extension": ".py",
   "mimetype": "text/x-python",
   "name": "python",
   "nbconvert_exporter": "python",
   "pygments_lexer": "ipython3",
   "version": "3.8.11"
  }
 },
 "nbformat": 4,
 "nbformat_minor": 5
}
